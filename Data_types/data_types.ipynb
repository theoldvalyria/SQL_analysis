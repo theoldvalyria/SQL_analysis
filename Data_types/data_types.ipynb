{
 "cells": [
  {
   "cell_type": "markdown",
   "metadata": {},
   "source": [
    "# Платформа Airbnb в Берлине"
   ]
  },
  {
   "cell_type": "markdown",
   "metadata": {},
   "source": [
    "Таблица `listings` содержит полную информацию о каждом объявлении Airbnb, включая описания, характеристики и средние оценки по отзывам. Таблица содержит много столбцов, только нужные перечислены в задачах.\n",
    "\n",
    "Таблица `calendar_summary` предоставляет информацию о доступности и ценах на жильё по дням.\n",
    "\n",
    "- **listing_id**: Идентификатор объявления\n",
    "- **date**: Дата\n",
    "- **available**: Доступность жилья в указанный день (t/f)\n",
    "- **price**: Цена за ночь\n",
    "\n",
    "Таблица `reviews` включает отзывы по объявлениям.\n",
    "\n",
    "- **listing_id**: Идентификатор объявления\n",
    "- **id**: Идентификатор отзыва\n",
    "- **date**: Дата отзыва\n",
    "- **reviewer_id**: Идентификатор автора отзыва\n",
    "- **reviewer_name**: Имя автора отзыва\n",
    "- **comments**: Текст отзыва"
   ]
  },
  {
   "cell_type": "markdown",
   "metadata": {},
   "source": [
    "### 1. Какой месяц и год регистрации новых хостов на Airbnb оказался самым популярным?\n",
    "- host_id – идентификатор хозяина\n",
    "- host_since – дата регистрации как хост"
   ]
  },
  {
   "cell_type": "markdown",
   "metadata": {},
   "source": [
    "```sql\n",
    "SELECT toStartOfMonth(toDateOrNull(host_since)) AS max_date\n",
    "FROM listings\n",
    "GROUP BY max_date\n",
    "ORDER BY COUNT(DISTINCT host_id) DESC\n",
    "LIMIT 1\n",
    "```"
   ]
  },
  {
   "cell_type": "markdown",
   "metadata": {},
   "source": [
    "### 2. Какая средняя частота ответа среди обычных хостов и суперхостов на Airbnb?\n",
    "- host_response_rate – частота ответа\n",
    "- host_is_superhost – является ли суперхозяином\n"
   ]
  },
  {
   "cell_type": "markdown",
   "metadata": {},
   "source": [
    "```sql\n",
    "SELECT host_is_superhost, \n",
    "       AVG(host_response_rate) AS AvgResp\n",
    "FROM\n",
    "    (SELECT DISTINCT host_id,\n",
    "                     host_is_superhost,\n",
    "                     toInt32OrNull(replaceAll(host_response_rate, '%', '')) AS host_response_rate\n",
    "    FROM listings) as sub\n",
    "WHERE host_is_superhost != '' \n",
    "GROUP BY host_is_superhost \n",
    "```"
   ]
  },
  {
   "cell_type": "markdown",
   "metadata": {},
   "source": [
    "### 3. Какую среднюю цену за ночь устанавливает каждый хост на Airbnb? Идентификаторы сдаваемого жилья объедините в отдельный массив. \n",
    "- host_id – идентификатор хозяина\n",
    "- id – идентификатор жилья\n",
    "- price – цена за ночь в конкретном месте\n"
   ]
  },
  {
   "cell_type": "markdown",
   "metadata": {},
   "source": [
    "```sql\n",
    "SELECT host_id,\n",
    "       AVG(toFloat32OrNull(replaceRegexpAll(price, '[$,]', ''))) AS avg_price,\n",
    "       groupArray(id) as ids\n",
    "FROM listings\n",
    "GROUP BY host_id\n",
    "ORDER BY avg_price DESC, host_id DESC\n",
    "```"
   ]
  },
  {
   "cell_type": "markdown",
   "metadata": {},
   "source": [
    "### 4. Расчитайте разницу между максимальной и минимальной установленной ценой у каждого хозяина. Укажите топ-10 хостов с наибольшей разницей. "
   ]
  },
  {
   "cell_type": "markdown",
   "metadata": {},
   "source": [
    "```sql\n",
    "SELECT host_id,\n",
    "       MAX(toFloat32OrNull(replaceRegexpAll(price, '[$,]', ''))) \n",
    "       - MIN(toFloat32OrNull(replaceRegexpAll(price, '[$,]', ''))) AS diff_price\n",
    "FROM listings\n",
    "GROUP BY host_id\n",
    "ORDER BY diff_price DESC\n",
    "LIMIT 10\n",
    "```"
   ]
  },
  {
   "cell_type": "markdown",
   "metadata": {},
   "source": [
    "### 5. Выведите средние значения цены за ночь, размера депозита и цены уборки по типу жилья.\n",
    "- room_type – тип сдаваемого жилья \n",
    "- price – цена за ночь\n",
    "- security_deposit – залог за сохранность имущества\n",
    "- cleaning_fee – плата за уборку"
   ]
  },
  {
   "cell_type": "markdown",
   "metadata": {},
   "source": [
    "```sql\n",
    "SELECT room_type,\n",
    "       AVG(toFloat32OrNull(replaceRegexpAll(price, '[$,]', ''))) AS avg_price,\n",
    "       AVG(toFloat32OrNull(replaceRegexpAll(security_deposit, '[$,]', ''))) AS avg_deposit,\n",
    "       AVG(toFloat32OrNull(replaceAll(cleaning_fee, '$', ''))) AS avg_cleaning_fee\n",
    "FROM listings\n",
    "GROUP BY room_type\n",
    "ORDER BY avg_deposit DESC\n",
    "```"
   ]
  },
  {
   "cell_type": "markdown",
   "metadata": {},
   "source": [
    "### 6. В каком районе города средняя стоимость за ночь на Airbnb является наименьшей?\n",
    "\n",
    "- price – цена за ночь\n",
    "- neighbourhood_cleansed – район/округ города"
   ]
  },
  {
   "cell_type": "markdown",
   "metadata": {},
   "source": [
    "```sql\n",
    "SELECT neighbourhood_cleansed,\n",
    "       AVG(toFloat32OrNull(replaceRegexpAll(price, '[$,]', ''))) AS avg_price\n",
    "FROM listings\n",
    "GROUP BY neighbourhood_cleansed\n",
    "ORDER BY avg_price \n",
    "LIMIT 1\n",
    "```"
   ]
  },
  {
   "cell_type": "markdown",
   "metadata": {},
   "source": [
    "### 7. В каких районах Берлина средняя площадь жилья, сдаваемого целиком, наибольшая? Определите топ-3 района.\n",
    "\n",
    "- neighbourhood_cleansed – район\n",
    "- square_feet – площадь\n",
    "- room_type – тип (нужный – 'Entire home/apt')\n"
   ]
  },
  {
   "cell_type": "markdown",
   "metadata": {},
   "source": [
    "```sql\n",
    "SELECT neighbourhood_cleansed,\n",
    "       AVG(toFloat32OrNull(square_feet)) AS avg_ssquare_feet\n",
    "FROM listings\n",
    "WHERE room_type = 'Entire home/apt'\n",
    "GROUP BY neighbourhood_cleansed\n",
    "ORDER BY avg_square DESC\n",
    "LIMIT 3\n",
    "```"
   ]
  },
  {
   "cell_type": "markdown",
   "metadata": {},
   "source": [
    "### 8. Какая из представленных комнат расположена ближе всего к центру города?\n",
    "\n",
    "- id – идентификатор жилья (объявления)\n",
    "- room_type – тип жилья ('Private room')\n",
    "- latitude – широта\n",
    "- longitude – долгота\n",
    "- 52.5200 с.ш., 13.4050 в.д – координаты центра Берлина"
   ]
  },
  {
   "cell_type": "markdown",
   "metadata": {},
   "source": [
    "```sql\n",
    "SELECT id,\n",
    "       geoDistance(52.5200, 13.4050, toFloat64OrNull(latitude), toFloat64OrNull(longitude)) as distance\n",
    "FROM listings\n",
    "WHERE room_type = 'Private room'\n",
    "ORDER BY distance \n",
    "LIMIT 1\n",
    "```"
   ]
  },
  {
   "cell_type": "markdown",
   "metadata": {},
   "source": [
    "### 9. Оставьте только те объявления, в которых оценка на основе отзывов выше среднего, а число отзывов в месяц составляет строго меньше трёх. Затем отсортируйте по убыванию две колонки: сначала по числу отзывов в месяц, потом по оценке.\n",
    "\n",
    "- review_scores_rating – оценка на основе отзывов\n",
    "- reviews_per_month – число отзывов в месяц"
   ]
  },
  {
   "cell_type": "markdown",
   "metadata": {},
   "source": [
    "```sql\n",
    "SELECT id, \n",
    "       reviews_per_month,\n",
    "       toFloat32OrNull(review_scores_rating) AS rating\n",
    "FROM listings\n",
    "WHERE toFloat32OrNull(review_scores_rating) > (SELECT AVG(toFloat32OrNull(review_scores_rating))\n",
    "                                               FROM listings) \n",
    "      AND reviews_per_month < 3\n",
    "ORDER BY reviews_per_month DESC, rating DESC\n",
    "```"
   ]
  },
  {
   "cell_type": "markdown",
   "metadata": {},
   "source": [
    "### 10. Посчитайте среднее расстояние до центра города и выведите идентификаторы объявлений о сдаче отдельных комнат, для которых расстояние оказалось меньше среднего. Результат отсортируйте по убыванию, тем самым выбрав комнату, которая является наиболее удаленной от центра, но при этом расположена ближе, чем остальные комнаты в среднем.\n"
   ]
  },
  {
   "cell_type": "markdown",
   "metadata": {},
   "source": [
    "```sql\n",
    "WITH \n",
    "(SELECT AVG(geoDistance(13.4050, 52.5200, toFloat64OrNull(longitude), toFloat64OrNull(latitude)))\n",
    "FROM listings \n",
    "WHERE room_type = 'Private room') as avg_distance\n",
    "\n",
    "SELECT id,\n",
    "       host_id,\n",
    "       geoDistance(13.4050, 52.5200, toFloat64OrNull(longitude), toFloat64OrNull(latitude)) as dist_city\n",
    "FROM listings\n",
    "WHERE room_type = 'Private room' AND\n",
    "      dist_city < avg_distance\n",
    "ORDER BY dist_city DESC\n",
    "```"
   ]
  },
  {
   "cell_type": "markdown",
   "metadata": {},
   "source": [
    "### 11. Отберите объявления из таблицы listings, которые:\n",
    "\n",
    "- находятся на расстоянии от центра меньше среднего \n",
    "- обойдутся дешевле 100$ в день (price с учетом cleaning_fee, который добавляется к общей сумме за неделю)\n",
    "- имеют последние отзывы (last_review), начиная с 1 сентября 2018 года\n",
    "- имеют WiFi в списке удобств (amenities)\n",
    "\n",
    "Отсортируйте полученные значения по убыванию review_scores_rating. "
   ]
  },
  {
   "cell_type": "markdown",
   "metadata": {},
   "source": [
    "```sql\n",
    "WITH \n",
    "(SELECT AVG(geoDistance(13.4050, 52.5200, toFloat64OrNull(longitude), toFloat64OrNull(latitude))) \n",
    "FROM listings) as avg_distance\n",
    "\n",
    "SELECT id,\n",
    "       host_id,\n",
    "       geoDistance(13.4050, 52.5200, toFloat64OrNull(longitude), toFloat64OrNull(latitude)) as distance,\n",
    "       price,\n",
    "       cleaning_fee,\n",
    "       amenities\n",
    "FROM listings\n",
    "WHERE distance < avg_distance AND \n",
    "      toFloat32OrNull(replaceRegexpAll(price, '[$,]', '')) + \n",
    "          (toFloat32OrNull(replaceRegexpAll(cleaning_fee, '[$,]', ''))) / 7 < 100  AND\n",
    "      toDateOrNull(last_review) >= '2018-09-01' AND\n",
    "      multiSearchAnyCaseInsensitive(amenities, ['WiFi'])\n",
    "ORDER BY toFloat32OrNull(review_scores_rating) DESC\n",
    "```"
   ]
  },
  {
   "cell_type": "markdown",
   "metadata": {},
   "source": [
    "### 12. Найдите в таблице ```calendar_summary``` те доступные (available='t') объявления, у которых число отзывов от уникальных пользователей в таблице ```reviews``` выше среднего.\n",
    "\n"
   ]
  },
  {
   "cell_type": "markdown",
   "metadata": {},
   "source": [
    "Будем считать, что отзыв — это уникальный посетитель на уникальное жилье, не учитывая возможные повторные отзывы от того же посетителя."
   ]
  },
  {
   "cell_type": "markdown",
   "metadata": {},
   "source": [
    "```sql\n",
    "WITH \n",
    "(SELECT AVG(unique_reviews) AS avg_revs\n",
    "FROM\n",
    "    (SELECT COUNT(DISTINCT reviews.reviewer_id) AS unique_reviews\n",
    "    FROM reviews\n",
    "    GROUP BY reviews.listing_id) \n",
    ") AS avg_reviews\n",
    "\n",
    "\n",
    "SELECT listing_id,\n",
    "       COUNT(DISTINCT reviews.id) AS unique_reviews\n",
    "FROM calendar_summary JOIN reviews ON calendar_summary.listing_id = reviews.listing_id\n",
    "WHERE available='t' \n",
    "GROUP BY calendar_summary.listing_id\n",
    "HAVING unique_reviews > avg_reviews\n",
    "ORDER BY listing_id\n",
    "LIMIT 10\n",
    "```"
   ]
  },
  {
   "cell_type": "markdown",
   "metadata": {},
   "source": [
    "### 13. Создайте колонку с обозначением группы, в которую попадает жилье из таблицы `listings`:\n",
    "\n",
    "- 'good', если в удобствах (`amenities`) присутствует кухня и система отмены (`cancellation_policy`) гибкая\n",
    "- 'ok', если в удобствах есть кухня, но система отмены не гибкая\n",
    "- 'not ok' во всех остальных случаях\n",
    "\n",
    "Результат отсортируйте по новой колонке по возрастанию, установите ограничение в 5 строк."
   ]
  },
  {
   "cell_type": "markdown",
   "metadata": {},
   "source": [
    "```sql\n",
    "SELECT  id,\n",
    "        host_id,\n",
    "        CASE\n",
    "            WHEN multiSearchAnyCaseInsensitive(amenities, ['kitchen']) AND \n",
    "                 cancellation_policy = 'flexible' THEN 'good'\n",
    "            WHEN multiSearchAnyCaseInsensitive(amenities, ['kitchen']) AND\n",
    "                 cancellation_policy != 'flexible' THEN 'ok'\n",
    "            ELSE 'not ok'\n",
    "        END AS category\n",
    "FROM listings\n",
    "ORDER BY category \n",
    "LIMIT 5\n",
    "```"
   ]
  }
 ],
 "metadata": {
  "kernelspec": {
   "display_name": "Python 3",
   "language": "python",
   "name": "python3"
  },
  "language_info": {
   "codemirror_mode": {
    "name": "ipython",
    "version": 3
   },
   "file_extension": ".py",
   "mimetype": "text/x-python",
   "name": "python",
   "nbconvert_exporter": "python",
   "pygments_lexer": "ipython3",
   "version": "3.7.3"
  }
 },
 "nbformat": 4,
 "nbformat_minor": 4
}
