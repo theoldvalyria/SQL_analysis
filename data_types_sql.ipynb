{
 "cells": [
  {
   "cell_type": "markdown",
   "metadata": {},
   "source": [
    "# Платформа Airbnb в Берлине"
   ]
  },
  {
   "cell_type": "markdown",
   "metadata": {},
   "source": [
    "Таблица `listings` содержит полную информацию о каждом объявлении Airbnb, включая описания, характеристики и средние оценки по отзывам. Таблица содержит много столбцов, только нужные перечислены в задачах.\n",
    "\n",
    "Таблица `calendar_summary` предоставляет информацию о доступности и ценах на жильё по дням.\n",
    "\n",
    "- **listing_id**: Идентификатор объявления\n",
    "- **date**: Дата\n",
    "- **available**: Доступность жилья в указанный день (t/f)\n",
    "- **price**: Цена за ночь\n",
    "\n",
    "Таблица `reviews` включает отзывы по объявлениям.\n",
    "\n",
    "- **listing_id**: Идентификатор объявления\n",
    "- **id**: Идентификатор отзыва\n",
    "- **date**: Дата отзыва\n",
    "- **reviewer_id**: Идентификатор автора отзыва\n",
    "- **reviewer_name**: Имя автора отзыва\n",
    "- **comments**: Текст отзыва"
   ]
  },
  {
   "cell_type": "markdown",
   "metadata": {},
   "source": [
    "### 1. Какой месяц и год регистрации новых хостов на Airbnb оказался самым популярным?\n",
    "- host_id – идентификатор хозяина\n",
    "- host_since – дата регистрации как хост"
   ]
  },
  {
   "cell_type": "markdown",
   "metadata": {},
   "source": [
    "```sql\n",
    "SELECT toStartOfMonth(toDateOrNull(host_since)) AS max_date\n",
    "FROM listings\n",
    "GROUP BY max_date\n",
    "ORDER BY COUNT(DISTINCT host_id) DESC\n",
    "LIMIT 1\n",
    "```"
   ]
  },
  {
   "cell_type": "markdown",
   "metadata": {},
   "source": [
    "### 2. Какая средняя частота ответа среди обычных хостов и суперхостов на Airbnb?\n",
    "- host_response_rate – частота ответа\n",
    "- host_is_superhost – является ли суперхозяином\n"
   ]
  },
  {
   "cell_type": "markdown",
   "metadata": {},
   "source": [
    "```sql\n",
    "SELECT host_is_superhost, \n",
    "       AVG(host_response_rate) AS AvgResp\n",
    "FROM\n",
    "    (SELECT DISTINCT host_id,\n",
    "                     host_is_superhost,\n",
    "                     toInt32OrNull(replaceAll(host_response_rate, '%', '')) AS host_response_rate\n",
    "    FROM listings) as sub\n",
    "WHERE host_is_superhost != '' \n",
    "GROUP BY host_is_superhost \n",
    "```"
   ]
  },
  {
   "cell_type": "markdown",
   "metadata": {},
   "source": [
    "### 3. Какую среднюю цену за ночь устанавливает каждый хост на Airbnb? Идентификаторы сдаваемого жилья объедините в отдельный массив. \n",
    "- host_id – идентификатор хозяина\n",
    "- id – идентификатор жилья\n",
    "- price – цена за ночь в конкретном месте\n"
   ]
  },
  {
   "cell_type": "markdown",
   "metadata": {},
   "source": [
    "```sql\n",
    "SELECT host_id,\n",
    "       AVG(toFloat32OrNull(replaceRegexpAll(price, '[$,]', ''))) AS avg_price,\n",
    "       groupArray(id) as ids\n",
    "FROM listings\n",
    "GROUP BY host_id\n",
    "ORDER BY avg_price DESC, host_id DESC\n",
    "```"
   ]
  },
  {
   "cell_type": "markdown",
   "metadata": {},
   "source": [
    "### 4. Расчитайте разницу между максимальной и минимальной установленной ценой у каждого хозяина. Укажите топ-10 хостов с наибольшей разницей. "
   ]
  },
  {
   "cell_type": "markdown",
   "metadata": {},
   "source": [
    "```sql\n",
    "SELECT host_id,\n",
    "       MAX(toFloat32OrNull(replaceRegexpAll(price, '[$,]', ''))) \n",
    "       - MIN(toFloat32OrNull(replaceRegexpAll(price, '[$,]', ''))) AS diff_price\n",
    "FROM listings\n",
    "GROUP BY host_id\n",
    "ORDER BY diff_price DESC\n",
    "LIMIT 10\n",
    "```"
   ]
  },
  {
   "cell_type": "markdown",
   "metadata": {},
   "source": [
    "### 5. Выведите средние значения цены за ночь, размера депозита и цены уборки по типу жилья.\n",
    "- room_type – тип сдаваемого жилья \n",
    "- price – цена за ночь\n",
    "- security_deposit – залог за сохранность имущества\n",
    "- cleaning_fee – плата за уборку"
   ]
  },
  {
   "cell_type": "markdown",
   "metadata": {},
   "source": [
    "```sql\n",
    "SELECT room_type,\n",
    "       AVG(toFloat32OrNull(replaceRegexpAll(price, '[$,]', ''))) AS avg_price,\n",
    "       AVG(toFloat32OrNull(replaceRegexpAll(security_deposit, '[$,]', ''))) AS avg_deposit,\n",
    "       AVG(toFloat32OrNull(replaceAll(cleaning_fee, '$', ''))) AS avg_cleaning_fee\n",
    "FROM listings\n",
    "GROUP BY room_type\n",
    "ORDER BY avg_deposit DESC\n",
    "```"
   ]
  },
  {
   "cell_type": "markdown",
   "metadata": {},
   "source": [
    "### 6. В каком районе города средняя стоимость за ночь на Airbnb является наименьшей?\n",
    "\n",
    "- price – цена за ночь\n",
    "- neighbourhood_cleansed – район/округ города"
   ]
  },
  {
   "cell_type": "markdown",
   "metadata": {},
   "source": [
    "```sql\n",
    "SELECT neighbourhood_cleansed,\n",
    "       AVG(toFloat32OrNull(replaceRegexpAll(price, '[$,]', ''))) AS avg_price\n",
    "FROM listings\n",
    "GROUP BY neighbourhood_cleansed\n",
    "ORDER BY avg_price \n",
    "LIMIT 1\n",
    "```"
   ]
  },
  {
   "cell_type": "markdown",
   "metadata": {},
   "source": [
    "### 7. В каких районах Берлина средняя площадь жилья, сдаваемого целиком, наибольшая? Определите топ-3 района.\n",
    "\n",
    "- neighbourhood_cleansed – район\n",
    "- square_feet – площадь\n",
    "- room_type – тип (нужный – 'Entire home/apt')\n"
   ]
  },
  {
   "cell_type": "markdown",
   "metadata": {},
   "source": [
    "```sql\n",
    "SELECT neighbourhood_cleansed,\n",
    "       AVG(toFloat32OrNull(square_feet)) AS avg_ssquare_feet\n",
    "FROM listings\n",
    "WHERE room_type = 'Entire home/apt'\n",
    "GROUP BY neighbourhood_cleansed\n",
    "ORDER BY avg_square DESC\n",
    "LIMIT 3\n",
    "```"
   ]
  },
  {
   "cell_type": "markdown",
   "metadata": {},
   "source": [
    "### 8. Какая из представленных комнат расположена ближе всего к центру города?\n",
    "\n",
    "- id – идентификатор жилья (объявления)\n",
    "- room_type – тип жилья ('Private room')\n",
    "- latitude – широта\n",
    "- longitude – долгота\n",
    "- 52.5200 с.ш., 13.4050 в.д – координаты центра Берлина"
   ]
  },
  {
   "cell_type": "markdown",
   "metadata": {},
   "source": [
    "```sql\n",
    "SELECT id,\n",
    "       geoDistance(52.5200, 13.4050, toFloat64OrNull(latitude), toFloat64OrNull(longitude)) as distance\n",
    "FROM listings\n",
    "WHERE room_type = 'Private room'\n",
    "ORDER BY distance \n",
    "LIMIT 1\n",
    "```"
   ]
  }
 ],
 "metadata": {
  "kernelspec": {
   "display_name": "Python 3",
   "language": "python",
   "name": "python3"
  },
  "language_info": {
   "codemirror_mode": {
    "name": "ipython",
    "version": 3
   },
   "file_extension": ".py",
   "mimetype": "text/x-python",
   "name": "python",
   "nbconvert_exporter": "python",
   "pygments_lexer": "ipython3",
   "version": "3.7.3"
  }
 },
 "nbformat": 4,
 "nbformat_minor": 4
}
