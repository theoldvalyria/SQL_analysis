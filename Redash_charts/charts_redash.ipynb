{
 "cells": [
  {
   "cell_type": "markdown",
   "metadata": {},
   "source": [
    "# Анализ данных транзакций интернет-магазина\n"
   ]
  },
  {
   "cell_type": "markdown",
   "metadata": {},
   "source": [
    "## Описание датасета\n",
    "\n",
    "Датасет `default.retail` содержит информацию о транзакциях, совершенных в интернет-магазине. Каждая запись представляет собой отдельную транзакцию и включает следующие поля:\n",
    "\n",
    "- **InvoiceNo**: Номер транзакции\n",
    "- **StockCode**: Код товара\n",
    "- **Description**: Описание товара\n",
    "- **Quantity**: Количество единиц товара, добавленных в заказ\n",
    "- **InvoiceDate**: Дата транзакции\n",
    "- **UnitPrice**: Цена за единицу товара\n",
    "- **CustomerID**: ID клиента\n",
    "- **Country**: Страна, где проживает клиент"
   ]
  },
  {
   "cell_type": "markdown",
   "metadata": {},
   "source": [
    "### 1. В каких странах имеется наибольшее число уникальных пользователей? \n",
    "   1. Постройте барчарт, где:\n",
    "     - по оси x – страна\n",
    "     - по оси y – число пользователей\n",
    "   2. В качестве ответа укажите число уникальных пользователей из Великобритании."
   ]
  },
  {
   "cell_type": "markdown",
   "metadata": {},
   "source": [
    "```sql\n",
    "SELECT  Country,\n",
    "        COUNT(DISTINCT CustomerID) AS unique_customers\n",
    "FROM default.retail\n",
    "GROUP BY Country\n",
    "ORDER BY unique_customers DESC \n",
    "LIMIT 10\n",
    "```"
   ]
  },
  {
   "cell_type": "markdown",
   "metadata": {},
   "source": [
    "![First Image](first.png)"
   ]
  },
  {
   "cell_type": "markdown",
   "metadata": {},
   "source": [
    "### 2. Посмотрите на динамику изменения числа активных пользователей в месяц в Великобритании, Австралии и Нидерландах. Полученная вами результирующая таблица должна иметь вид: страна - число уникальных пользователей за определённый месяц. В качестве ответа укажите наименьшее число пользователей за февраль 2011.\n",
    "\n"
   ]
  },
  {
   "cell_type": "markdown",
   "metadata": {},
   "source": [
    "```sql\n",
    "SELECT  Country,\n",
    "        toStartOfMonth(InvoiceDate) AS month,\n",
    "        COUNT(DISTINCT CustomerID) AS customers\n",
    "FROM default.retail\n",
    "WHERE Country IN ('United Kingdom', 'Australia', 'Netherlands')\n",
    "GROUP BY Country, month\n",
    "ORDER BY month\n",
    "```"
   ]
  },
  {
   "cell_type": "markdown",
   "metadata": {},
   "source": [
    "![Second Image](second.png)"
   ]
  },
  {
   "cell_type": "markdown",
   "metadata": {},
   "source": [
    "### 3. Давайте посмотрим на динамику изменения числа активных пользователей в месяц уже для всех стран, кроме Великобритании. "
   ]
  },
  {
   "cell_type": "markdown",
   "metadata": {},
   "source": [
    "```sql\n",
    "SELECT  Country,\n",
    "        toStartOfMonth(InvoiceDate) AS month,\n",
    "        COUNT(DISTINCT CustomerID) AS customers\n",
    "FROM default.retail\n",
    "WHERE Country != 'United Kingdom'\n",
    "GROUP BY Country, month\n",
    "ORDER BY month\n",
    "```"
   ]
  },
  {
   "cell_type": "markdown",
   "metadata": {},
   "source": [
    "### В каких месяцах число активных пользователей во Франции было больше, чем в Германии?"
   ]
  },
  {
   "cell_type": "markdown",
   "metadata": {},
   "source": [
    "```sql\n",
    "SELECT  Country,\n",
    "        toStartOfMonth(InvoiceDate) AS month,\n",
    "        COUNT(DISTINCT CustomerID) AS customers\n",
    "FROM default.retail\n",
    "WHERE Country IN ('France', 'Germany')\n",
    "GROUP BY Country, month\n",
    "ORDER BY month\n",
    "```"
   ]
  },
  {
   "cell_type": "markdown",
   "metadata": {},
   "source": [
    "![Third Image](third.png)"
   ]
  },
  {
   "cell_type": "markdown",
   "metadata": {},
   "source": [
    "Как видно на графике, число активных пользователей во Франции было больше, чем в Германии в мае, сентябре и декабре 2011 года."
   ]
  },
  {
   "cell_type": "markdown",
   "metadata": {},
   "source": [
    "### 4. Посчитайте среднюю сумму заказа (AOV – average order value) в каждой из стран."
   ]
  },
  {
   "cell_type": "markdown",
   "metadata": {},
   "source": [
    "```sql\n",
    "WITH total_order_price AS\n",
    "    (\n",
    "SELECT  InvoiceNo,\n",
    "        Country,\n",
    "        SUM(UnitPrice * Quantity) AS total_price\n",
    "FROM default.retail \n",
    "WHERE Quantity > 0\n",
    "GROUP BY InvoiceNo, Country\n",
    "    )\n",
    "\n",
    "SELECT  Country,\n",
    "        AVG(total_price) AS AOV \n",
    "FROM total_order_price\n",
    "GROUP BY Country\n",
    "ORDER BY AOV DESC\n",
    "LIMIT 3\n",
    "```"
   ]
  },
  {
   "cell_type": "markdown",
   "metadata": {},
   "source": [
    "![Forth](forth.png)"
   ]
  },
  {
   "cell_type": "markdown",
   "metadata": {},
   "source": [
    "### 5. Как изменялась средняя сумма заказа в разных странах по месяцам? Предположим, нас интересует динамика в следующих странах: United Kingdom, Germany, France, Spain, Netherlands, Belgium, Switzerland, Portugal, Australia, USA. "
   ]
  },
  {
   "cell_type": "markdown",
   "metadata": {},
   "source": [
    "```sql\n",
    "WITH total_order_price AS\n",
    "    (\n",
    "SELECT  InvoiceNo,\n",
    "        toStartOfMonth(InvoiceDate) AS month,\n",
    "        Country,\n",
    "        SUM(UnitPrice * Quantity) AS total_price\n",
    "FROM default.retail \n",
    "WHERE Quantity > 0\n",
    "GROUP BY InvoiceNo, month, Country\n",
    "    )\n",
    "\n",
    "SELECT  Country,\n",
    "        month,    \n",
    "        AVG(total_price) AS AOV \n",
    "FROM total_order_price\n",
    "WHERE Country IN ('United Kingdom', 'Germany', 'France', 'Spain', 'Netherlands',\n",
    "                  'Belgium', 'Switzerland', 'Portugal', 'Australia', 'USA')\n",
    "GROUP BY Country, month\n",
    "ORDER BY month ASC, AOV DESC\n",
    "```"
   ]
  },
  {
   "cell_type": "markdown",
   "metadata": {},
   "source": [
    "![Fifth Image](fifth.png)"
   ]
  },
  {
   "cell_type": "markdown",
   "metadata": {},
   "source": [
    "#### Выводы по графику:\n",
    "- Аномальный рост среднего чека произошел в августе 2011 среди пользователей из Австралии\n",
    "- Меньше всего данных за этот период у США\n",
    "- Самые большие значения среднего чека наблюдаются в Австралии и Нидерландах.\n"
   ]
  },
  {
   "cell_type": "markdown",
   "metadata": {},
   "source": [
    "### 6. Сколько товаров пользователи обычно добавляют в корзину? Посчитайте среднее количество товаров, добавленных в корзину, с разбивкой по странам. \n",
    "\n",
    "В качестве ответа укажите среднее число товаров в заказе среди пользователей в Канаде (Canada)."
   ]
  },
  {
   "cell_type": "markdown",
   "metadata": {},
   "source": [
    "```sql\n",
    "WITH total_quantity AS\n",
    "    (\n",
    "SELECT  InvoiceNo,\n",
    "        Country,\n",
    "        SUM(Quantity) AS total_quantity\n",
    "FROM default.retail \n",
    "WHERE Quantity > 0\n",
    "GROUP BY InvoiceNo, Country\n",
    "    )\n",
    "\n",
    "SELECT  Country,\n",
    "        AVG(total_quantity) AS avg_quantity \n",
    "FROM total_quantity\n",
    "GROUP BY Country\n",
    "```"
   ]
  },
  {
   "cell_type": "markdown",
   "metadata": {},
   "source": [
    "![Sixth Image](sixth.png)"
   ]
  },
  {
   "cell_type": "markdown",
   "metadata": {},
   "source": [
    "### 7. Определите, в каких странах совершается наибольшее количество заказов."
   ]
  },
  {
   "cell_type": "markdown",
   "metadata": {},
   "source": [
    "```sql\n",
    "SELECT Country,\n",
    "       COUNT(DISTINCT InvoiceNo) AS order_count\n",
    "FROM default.retail\n",
    "GROUP BY Country\n",
    "\n",
    "```"
   ]
  },
  {
   "cell_type": "markdown",
   "metadata": {},
   "source": [
    "![Seventh Image](seventh.png)"
   ]
  },
  {
   "cell_type": "markdown",
   "metadata": {},
   "source": [
    "**Вывод**: Анализ количества заказов с разбивкой по странам выявил, что наибольшее количество заказов совершается в United Kingdom, Germany и France.\n"
   ]
  },
  {
   "cell_type": "markdown",
   "metadata": {},
   "source": [
    "### 8. Произведите анализ выручки по дням недели."
   ]
  },
  {
   "cell_type": "markdown",
   "metadata": {},
   "source": [
    "```sql\n",
    "SELECT DAYOFWEEK(InvoiceDate) AS day_of_week,\n",
    "       SUM(UnitPrice * Quantity) AS total_revenue\n",
    "FROM default.retail\n",
    "GROUP BY day_of_week\n",
    "ORDER BY day_of_week\n",
    "```"
   ]
  },
  {
   "cell_type": "markdown",
   "metadata": {},
   "source": [
    "![8 Image](8.png)"
   ]
  },
  {
   "cell_type": "markdown",
   "metadata": {},
   "source": [
    "**Вывод**: Анализ выручки по дням недели показал, что чаще всего продажи происходят в четверг, при этом по субботам продаж не зафиксировано (0)."
   ]
  }
 ],
 "metadata": {
  "kernelspec": {
   "display_name": "Python 3",
   "language": "python",
   "name": "python3"
  },
  "language_info": {
   "codemirror_mode": {
    "name": "ipython",
    "version": 3
   },
   "file_extension": ".py",
   "mimetype": "text/x-python",
   "name": "python",
   "nbconvert_exporter": "python",
   "pygments_lexer": "ipython3",
   "version": "3.7.3"
  }
 },
 "nbformat": 4,
 "nbformat_minor": 4
}
