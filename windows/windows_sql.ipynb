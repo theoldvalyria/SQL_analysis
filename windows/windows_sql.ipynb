{
 "cells": [
  {
   "cell_type": "markdown",
   "metadata": {},
   "source": [
    "# Продажи магазина Amazon"
   ]
  },
  {
   "cell_type": "markdown",
   "metadata": {},
   "source": [
    "### Данные для анализа\n",
    "\n",
    "Таблица `Sales` содержит информацию о ежемесячных продажах магазина Amazon за 2023 год. \n",
    "\n",
    "- **month**: Номер месяца\n",
    "- **quantity**: Количество проданных товаров за месяц"
   ]
  },
  {
   "cell_type": "markdown",
   "metadata": {},
   "source": [
    "### 1. Напишите запрос, который извлекает из предложенной базы данных номера всех месяцев, а также указывает для каждого месяца среднее количество проданных товаров, учитывая лишь предыдущий, текущий и следующий месяцы. \n"
   ]
  },
  {
   "cell_type": "markdown",
   "metadata": {},
   "source": [
    "```sql\n",
    "SELECT month,\n",
    "       AVG(quantity) OVER (ORDER BY month ROWS BETWEEN 1 PRECEDING AND 1 FOLLOWING) AS avg_quantity\n",
    "FROM Sales;\n",
    "```"
   ]
  },
  {
   "cell_type": "markdown",
   "metadata": {},
   "source": [
    "### 2. Напишите запрос, который извлекает из предложенной базы данных всю информацию о продажах за каждый месяц, а также указывает для каждого месяца количество проданных товаров за предыдущий месяц.\n",
    "\n"
   ]
  },
  {
   "cell_type": "markdown",
   "metadata": {},
   "source": [
    "```sql\n",
    "SELECT month,\n",
    "       quantity,\n",
    "       IFNULL(SUM(quantity) OVER (ORDER BY month ROWS BETWEEN 1 PRECEDING AND 1 PRECEDING), 0) AS prev_month_quantity\n",
    "FROM Sales;\n",
    "```"
   ]
  },
  {
   "cell_type": "markdown",
   "metadata": {},
   "source": [
    "### 3. Напишите запрос, который извлекает из предложенной базы данных всю информацию о продажах за каждый месяц, а также указывает для каждого месяца суммарное количество проданных товаров за текущий и все предыдущие месяцы.\n",
    "\n"
   ]
  },
  {
   "cell_type": "markdown",
   "metadata": {},
   "source": [
    "```sql\n",
    "SELECT month,\n",
    "       quantity,\n",
    "       SUM(quantity) OVER (ORDER BY month ROWS BETWEEN UNBOUNDED PRECEDING AND CURRENT ROW) AS total_quantity\n",
    "FROM Sales;\n",
    "```"
   ]
  },
  {
   "cell_type": "markdown",
   "metadata": {},
   "source": [
    "### 4. Напишите запрос, который извлекает из предложенной базы данных всю информацию о продажах за каждый месяц, начиная с третьего, а также указывает для каждого месяца среднее количество проданных товаров за два предыдущих месяца.\n",
    "\n",
    " "
   ]
  },
  {
   "cell_type": "markdown",
   "metadata": {},
   "source": [
    "```sql\n",
    "SELECT month,\n",
    "       quantity,\n",
    "       AVG(quantity) OVER (ORDER BY month ROWS BETWEEN 2 PRECEDING AND 1 PRECEDING) AS two_prev_months_avg_quantity\n",
    "FROM Sales\n",
    "LIMIT 100\n",
    "OFFSET 2;\n",
    "```"
   ]
  },
  {
   "cell_type": "markdown",
   "metadata": {},
   "source": [
    "### 5. Напишите запрос, который извлекает из предложенной базы данных всю информацию о продажах за каждый месяц, а также указывает для каждого месяца суммарное количество проданных товаров за текущий и все предыдущие месяцы в рамках квартала.\n",
    "\n"
   ]
  },
  {
   "cell_type": "markdown",
   "metadata": {},
   "source": [
    "```sql\n",
    "WITH Quarter AS (\n",
    "    SELECT month,\n",
    "           quantity,\n",
    "           NTILE(4) OVER (ORDER BY month) AS quarter\n",
    "    FROM Sales\n",
    ")\n",
    "\n",
    "SELECT month,\n",
    "       quantity,\n",
    "       SUM(quantity) OVER (PARTITION BY quarter\n",
    "                           ORDER BY month\n",
    "                           ROWS BETWEEN UNBOUNDED PRECEDING AND CURRENT ROW) AS total_quantity_within_quarter\n",
    "FROM Quarter;\n",
    "```"
   ]
  },
  {
   "cell_type": "markdown",
   "metadata": {},
   "source": [
    "### 6. Напишите запрос, который извлекает из предложенной базы данных всю информацию, а также указывает для каждого дня (даты), было ли продано в этот день товаров больше, чем в предыдущий день:\n",
    "\n",
    "- yes, если товаров было продано больше\n",
    "- no, если товаров было продано столько же или меньше\n",
    "- unknown, если информация о продажах за предыдущий день отсутствует"
   ]
  },
  {
   "cell_type": "markdown",
   "metadata": {},
   "source": [
    "```sql\n",
    "SELECT\n",
    "    day,\n",
    "    quantity,\n",
    "    CASE\n",
    "        WHEN quantity > SUM(quantity) OVER query_days THEN 'yes'\n",
    "        WHEN quantity <= SUM(quantity) OVER query_days THEN 'no'\n",
    "        ELSE 'unknown'\n",
    "    END AS sales_better_than_yesterday\n",
    "FROM Sales\n",
    "WINDOW query_days AS (ORDER BY day RANGE BETWEEN INTERVAL 1 DAY PRECEDING AND INTERVAL 1 DAY PRECEDING);\n",
    "```"
   ]
  },
  {
   "cell_type": "markdown",
   "metadata": {},
   "source": [
    "### 7. Напишите запрос, который извлекает из предложенной базы данных всю информацию о продажах за каждый месяц, а также указывает для каждого месяца номер месяца, в который было продано наибольшее количество товаров. Записи в результирующей таблице должны быть расположены в порядке возрастания значения поля month.\n",
    "\n"
   ]
  },
  {
   "cell_type": "markdown",
   "metadata": {},
   "source": [
    "```sql\n",
    "SELECT month,\n",
    "       quantity,\n",
    "       FIRST_VALUE(month) OVER (ORDER BY quantity DESC) AS highest_sales_month\n",
    "FROM Sales\n",
    "ORDER BY month;\n",
    "```"
   ]
  },
  {
   "cell_type": "markdown",
   "metadata": {},
   "source": [
    "### 8. Напишите запрос, который извлекает из предложенной базы данных всю информацию о продажах за каждый месяц, а также указывает для каждого месяца номер месяца, в который было продано наибольшее количество товаров в рамках квартала. Помимо номера месяца, должно быть указано само количество проданных товаров.\n",
    "\n",
    " "
   ]
  },
  {
   "cell_type": "markdown",
   "metadata": {},
   "source": [
    "```sql\n",
    "WITH Quarter_sales AS(\n",
    "    SELECT month,\n",
    "           quantity,\n",
    "           NTILE(4) OVER (ORDER BY month) AS quarter\n",
    "    FROM Sales)\n",
    "\n",
    "SELECT month,\n",
    "       quantity,\n",
    "       FIRST_VALUE(month) OVER (PARTITION BY quarter ORDER BY quantity DESC) AS highest_sales_month_within_quarter,\n",
    "       FIRST_VALUE(quantity) OVER (PARTITION BY quarter ORDER BY quantity DESC) AS highest_sales_quantity_within_quarter\n",
    "FROM Quarter_sales\n",
    "ORDER BY month\n",
    "```"
   ]
  },
  {
   "cell_type": "markdown",
   "metadata": {},
   "source": [
    "### 9. Напишите запрос, который разбивает все месяцы по кварталам, определяет для каждого квартала месяц, в который было продано наименьшее количество товаров, и отображает полученный результат в виде таблицы из трех полей:\n",
    "\n",
    "- quarter — номер квартала\n",
    "- lowest_sales_month — номер месяца, в который было продано наименьшее количество товаров\n",
    "- lowest_sales_quantity — соответствующее месяцу количество проданных товаров"
   ]
  },
  {
   "cell_type": "markdown",
   "metadata": {},
   "source": [
    "```sql\n",
    "WITH Quarter_sales AS(\n",
    "    SELECT month,\n",
    "           quantity,\n",
    "           NTILE(4) OVER (ORDER BY month) AS quarter\n",
    "    FROM Sales)\n",
    "\n",
    "SELECT DISTINCT quarter,\n",
    "       FIRST_VALUE(month) OVER (PARTITION BY quarter ORDER BY quantity) AS lowest_sales_month,\n",
    "       FIRST_VALUE(quantity) OVER (PARTITION BY quarter ORDER BY quantity) AS lowest_sales_quantity\n",
    "FROM Quarter_sales\n",
    "```"
   ]
  },
  {
   "cell_type": "markdown",
   "metadata": {},
   "source": [
    "### 10. Напишите запрос, который извлекает из предложенной базы данных всю информацию о продажах за каждый месяц, а также указывает для каждого месяца количество проданных товаров за предыдущий и предпредыдущий месяцы.\n",
    "\n"
   ]
  },
  {
   "cell_type": "markdown",
   "metadata": {},
   "source": [
    "```sql\n",
    "SELECT month,\n",
    "       quantity,\n",
    "       LAG(quantity, 1, 0) OVER (ORDER BY month) AS prev_month_sales,\n",
    "       LAG(quantity, 2, 0) OVER (ORDER BY month) AS second_prev_month_sales\n",
    "FROM Sales;\n",
    "```"
   ]
  },
  {
   "cell_type": "markdown",
   "metadata": {},
   "source": [
    "### 11. Напишите запрос, который извлекает из предложенной базы данных всю информацию о продажах за каждый месяц, а также указывает для каждого месяца количество проданных товаров в соответствующем месяце предыдущего квартала: для первого месяца квартала соответствующим месяцем является первый месяц предыдущего квартала, для второго — второй, для третьего — третий.\n",
    "\n"
   ]
  },
  {
   "cell_type": "markdown",
   "metadata": {},
   "source": [
    "```sql\n",
    "SELECT Sales.*,\n",
    "       LAG(quantity, 3, 0) OVER (ORDER BY month) AS prev_quarter_month_sales\n",
    "FROM Sales;\n",
    "```"
   ]
  },
  {
   "cell_type": "markdown",
   "metadata": {},
   "source": [
    "### 12. Напишите запрос, который извлекает из предложенной базы данных всю информацию о продажах за те месяцы, в которые товаров было продано больше чем в предыдущем месяце.\n",
    "\n"
   ]
  },
  {
   "cell_type": "markdown",
   "metadata": {},
   "source": [
    "```sql\n",
    "WITH PrevMonth AS (\n",
    "    SELECT month, quantity,\n",
    "           LAG(quantity, 1, 0) OVER (ORDER BY month) AS prev_month_quantity\n",
    "    FROM Sales\n",
    ")\n",
    "SELECT month, quantity\n",
    "FROM PrevMonth\n",
    "WHERE quantity > prev_month_quantity;\n",
    "```"
   ]
  },
  {
   "cell_type": "markdown",
   "metadata": {},
   "source": [
    "### 13. Напишите запрос, который извлекает из предложенной базы данных всю информацию о продажах за все месяцы, кроме последнего, а также указывает для каждого месяца разницу в количестве проданных товаров между текущим месяцем и следующим.\n",
    "\n"
   ]
  },
  {
   "cell_type": "markdown",
   "metadata": {},
   "source": [
    "```sql\n",
    "WITH FolowMonth AS (\n",
    "    SELECT month, quantity,\n",
    "           LEAD(quantity, 1) OVER (ORDER BY month) AS folow_month_quantity\n",
    "    FROM Sales\n",
    "    \n",
    ")\n",
    "SELECT month, \n",
    "       quantity,\n",
    "       ABS(quantity - folow_month_quantity) AS next_month_sales_diff\n",
    "FROM FolowMonth\n",
    "LIMIT 11;\n",
    "```"
   ]
  },
  {
   "cell_type": "markdown",
   "metadata": {},
   "source": [
    "### 14. Интернет-магазин Amazon в рамках каждого квартала определяет среднее изменение количества проданных товаров, складывая разницу между продажами первого и второго месяцев квартала с разницей между продажами второго и третьего месяцев квартала и деля ее пополам. Напишите запрос, который разбивает все месяцы по кварталам, определяет среднее изменение количества проданных товаров в каждом квартале и отображает полученный результат в виде таблицы из двух полей:\n",
    "\n",
    "- quarter — номер квартала\n",
    "- sales_avg_diff — среднее изменение количества проданных товаров\n"
   ]
  },
  {
   "cell_type": "markdown",
   "metadata": {},
   "source": [
    "```sql\n",
    "WITH QuarterSales AS (\n",
    "    SELECT \n",
    "        month,\n",
    "        quantity,\n",
    "        NTILE(4) OVER (ORDER BY month) AS quarter\n",
    "    FROM \n",
    "        Sales\n",
    ")\n",
    "\n",
    "SELECT \n",
    "    quarter,\n",
    "    (\n",
    "        ABS(current_quantity - next_quantity) + \n",
    "        ABS(next_quantity - next_next_quantity)\n",
    "    ) / 2 AS sales_avg_diff\n",
    "FROM (\n",
    "    SELECT \n",
    "        month,\n",
    "        quarter,\n",
    "        LEAD(quantity, 1) OVER (PARTITION BY quarter ORDER BY month) AS next_quantity,\n",
    "        LEAD(quantity, 2) OVER (PARTITION BY quarter ORDER BY month) AS next_next_quantity,\n",
    "        quantity AS current_quantity\n",
    "    FROM \n",
    "        QuarterSales\n",
    ") AS subquery\n",
    "WHERE (\n",
    "        (current_quantity - next_quantity) + \n",
    "        (next_quantity - next_next_quantity)\n",
    "    ) / 2  IS NOT NULL\n",
    "\n",
    "```"
   ]
  }
 ],
 "metadata": {
  "kernelspec": {
   "display_name": "Python 3",
   "language": "python",
   "name": "python3"
  },
  "language_info": {
   "codemirror_mode": {
    "name": "ipython",
    "version": 3
   },
   "file_extension": ".py",
   "mimetype": "text/x-python",
   "name": "python",
   "nbconvert_exporter": "python",
   "pygments_lexer": "ipython3",
   "version": "3.7.3"
  }
 },
 "nbformat": 4,
 "nbformat_minor": 4
}
