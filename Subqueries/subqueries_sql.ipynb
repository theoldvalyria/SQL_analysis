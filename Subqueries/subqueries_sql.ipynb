{
 "cells": [
  {
   "cell_type": "markdown",
   "metadata": {},
   "source": [
    "# Онлайн-кинотеатр \"Окко\" - SQL Код"
   ]
  },
  {
   "cell_type": "markdown",
   "metadata": {},
   "source": [
    "Таблица `Films` хранит информацию о фильмах, доступных в кинотеатре.\n",
    "\n",
    "- **id**: Идентификатор фильма\n",
    "- **title**: Название фильма\n",
    "- **director**: Имя и фамилия режиссера\n",
    "- **price**: Цена фильма в долларах\n",
    "\n",
    "Таблица `Users` хранит информацию о пользователях кинотеатра.\n",
    "\n",
    "- **id**: Идентификатор пользователя\n",
    "- **name**: Имя пользователя\n",
    "- **surname**: Фамилия пользователя\n",
    "\n",
    "Таблица `Purchases` хранит информацию о покупках пользователей.\n",
    "\n",
    "- **id**: Идентификатор покупки\n",
    "- **film_id**: Идентификатор фильма\n",
    "- **user_id**: Идентификатор пользователя"
   ]
  },
  {
   "cell_type": "markdown",
   "metadata": {},
   "source": [
    "### 1. Напишите запрос, извлекающий из предложенной базы данных имена и фамилии пользователей, которые не приобрели ни одного фильма."
   ]
  },
  {
   "cell_type": "raw",
   "metadata": {
    "raw_mimetype": "text/markdown"
   },
   "source": [
    "SELECT name, surname\n",
    "FROM Users\n",
    "WHERE id NOT IN (SELECT user_id\n",
    "                 FROM Purchases);"
   ]
  },
  {
   "cell_type": "markdown",
   "metadata": {},
   "source": [
    "### 2. Напишите запрос, извлекающий из предложенной базы данных информацию о фильмах (название, имя и фамилия режиссера), которые были куплены хотя бы раз. Записи в результирующей таблице должны быть расположены в порядке возрастания значения поля title.\n",
    "\n",
    "\n"
   ]
  },
  {
   "cell_type": "raw",
   "metadata": {
    "raw_mimetype": "text/markdown"
   },
   "source": [
    "SELECT title, director\n",
    "FROM Films\n",
    "WHERE id IN (SELECT film_id\n",
    "             FROM Purchases)\n",
    "ORDER BY title;"
   ]
  },
  {
   "cell_type": "markdown",
   "metadata": {},
   "source": [
    "### 3. Напишите запрос, определяющий количество пользователей, которые приобрели фильм под названием Toy Story 2, и указывающий полученное значение в поле с псевдонимом num_of_users.\n",
    "\n",
    "\n"
   ]
  },
  {
   "cell_type": "raw",
   "metadata": {
    "raw_mimetype": "text/markdown"
   },
   "source": [
    "SELECT COUNT(*) AS num_of_users\n",
    "FROM Purchases\n",
    "WHERE film_id = (SELECT id\n",
    "                 FROM Films\n",
    "                 WHERE title = 'Toy Story 2');"
   ]
  },
  {
   "cell_type": "markdown",
   "metadata": {},
   "source": [
    "### 4. Напишите запрос, извлекающий из предложенной базы данных имена и фамилии пользователей, которые приобрели фильм под названием Toy Story 2. Записи в результирующей таблице должны быть расположены в порядке возрастания значения поля name.\n",
    "\n",
    "\n"
   ]
  },
  {
   "cell_type": "raw",
   "metadata": {
    "raw_mimetype": "text/markdown"
   },
   "source": [
    "SELECT name, surname\n",
    "FROM Users\n",
    "WHERE id IN (SELECT user_id\n",
    "            FROM Purchases\n",
    "            WHERE film_id = (SELECT id\n",
    "                            FROM Films\n",
    "                            WHERE title = 'Toy Story 2'))\n",
    "ORDER BY name;"
   ]
  },
  {
   "cell_type": "markdown",
   "metadata": {},
   "source": [
    "### 5. Напишите запрос, который извлекает из предложенной базы данных имена и фамилии всех пользователей, а также определяет количество фильмов, купленное каждым пользователем. Записи в результирующей таблице должны быть расположены в порядке убывания значения поля num_of_films, при совпадении — в порядке возрастания поля name.\n",
    "\n"
   ]
  },
  {
   "cell_type": "raw",
   "metadata": {
    "raw_mimetype": "text/markdown"
   },
   "source": [
    "SELECT name, surname,\n",
    "       (SELECT COUNT(*)\n",
    "        FROM Purchases\n",
    "        WHERE user_id = Users.id) AS num_of_films\n",
    "FROM Users\n",
    "ORDER BY num_of_films DESC, name;"
   ]
  },
  {
   "cell_type": "markdown",
   "metadata": {},
   "source": [
    "### 6. Напишите запрос, который извлекает из предложенной базы данных имена и фамилии пользователей, которые приобрели ровно два фильма. Записи в результирующей таблице должны быть расположены в порядке возрастания значения поля name.\n",
    "\n",
    "\n"
   ]
  },
  {
   "cell_type": "raw",
   "metadata": {
    "raw_mimetype": "text/markdown"
   },
   "source": [
    "SELECT name, surname\n",
    "FROM Users    \n",
    "WHERE\n",
    "    (SELECT COUNT(*) \n",
    "     FROM Purchases\n",
    "     WHERE user_id = Users.id) = 2\n",
    "ORDER BY name;"
   ]
  },
  {
   "cell_type": "markdown",
   "metadata": {},
   "source": [
    "### 7. Напишите запрос, который извлекает из предложенной базы данных имя и фамилию пользователя, который приобрел наибольшее количество фильмов. Гарантируется, что только один пользователь приобрел наибольшее количество фильмов.\n",
    "\n"
   ]
  },
  {
   "cell_type": "raw",
   "metadata": {
    "raw_mimetype": "text/markdown"
   },
   "source": [
    "SELECT name, surname\n",
    "FROM Users\n",
    "WHERE id =  (SELECT user_id\n",
    "             FROM Purchases\n",
    "             GROUP BY user_id\n",
    "             ORDER BY COUNT(*) DESC\n",
    "             LIMIT 1);"
   ]
  },
  {
   "cell_type": "markdown",
   "metadata": {},
   "source": [
    "### 8. Напишите запрос, который извлекает из предложенной базы данных имена и фамилии пользователей, а также определяет название первого купленного каждым пользователем фильма. При этом в результирующую таблицу должны быть добавлены только те пользователи, которые приобрели хотя бы один фильм. Записи в результирующей таблице должны быть расположены в порядке возрастания значения поля name. "
   ]
  },
  {
   "cell_type": "raw",
   "metadata": {
    "raw_mimetype": "text/markdown"
   },
   "source": [
    "SELECT name, surname, \n",
    "       (SELECT title\n",
    "        FROM Films\n",
    "        WHERE id = (SELECT film_id\n",
    "                   FROM Purchases\n",
    "                   WHERE user_id = Users.id\n",
    "                   ORDER BY id     \n",
    "                   LIMIT 1)) AS first_film      \n",
    "FROM Users\n",
    "WHERE id IN (SELECT user_id\n",
    "             FROM Purchases)\n",
    "ORDER BY name;"
   ]
  },
  {
   "cell_type": "markdown",
   "metadata": {},
   "source": [
    "### 9. Напишите запрос, который извлекает из предложенной базы данных имена и фамилии всех пользователей, а также определяет количество денег, потраченное каждым пользователем на покупку фильмов. Записи в результирующей таблице должны быть расположены в порядке убывания значения поля total_spending, при совпадении — в порядке возрастания поля name."
   ]
  },
  {
   "cell_type": "raw",
   "metadata": {
    "raw_mimetype": "text/markdown"
   },
   "source": [
    "SELECT name, surname,\n",
    "       IFNULL((SELECT SUM(price)\n",
    "               FROM Films\n",
    "               WHERE id IN (SELECT film_id\n",
    "                            FROM Purchases\n",
    "                            WHERE user_id = Users.id)), 0.00) AS total_spending\n",
    "FROM Users\n",
    "ORDER BY total_spending DESC, name;"
   ]
  },
  {
   "cell_type": "markdown",
   "metadata": {},
   "source": [
    "### 10. Напишите запрос, который извлекает из предложенной базы данных имена и фамилии пользователей, а также определяет название самого дорогого купленного каждым пользователем фильма. При этом в результирующую таблицу должны быть добавлены только те пользователи, которые приобрели хотя бы один фильм. Если пользователем куплено несколько самых дорогих фильмов, в результирующую таблицу должен быть добавлен тот фильм, чье название меньше в лексикографическом сравнении. Поле с названием самого дорогого купленного пользователем фильма должно иметь псевдоним most_expensive_film. Записи в результирующей таблице должны быть расположены в порядке убывания цен самых дорогих купленных пользователями фильмов, при совпадении — в лексикографическом порядке названий этих фильмов, при совпадении — в порядке имен пользователей."
   ]
  },
  {
   "cell_type": "raw",
   "metadata": {
    "raw_mimetype": "text/markdown"
   },
   "source": [
    "SELECT name, surname,\n",
    "      (SELECT title\n",
    "       FROM Films\n",
    "       WHERE id IN (SELECT film_id\n",
    "                    FROM Purchases\n",
    "                    WHERE user_id = Users.id)\n",
    "       ORDER BY price DESC, title\n",
    "       LIMIT 1) AS most_expensive_film\n",
    "FROM Users\n",
    "WHERE id IN (SELECT user_id\n",
    "             FROM Purchases)\n",
    "ORDER BY (SELECT price\n",
    "          FROM Films\n",
    "          WHERE title = most_expensive_film) DESC,\n",
    "          most_expensive_film, name;"
   ]
  }
 ],
 "metadata": {
  "celltoolbar": "Raw Cell Format",
  "kernelspec": {
   "display_name": "Python 3 (ipykernel)",
   "language": "python",
   "name": "python3"
  },
  "language_info": {
   "codemirror_mode": {
    "name": "ipython",
    "version": 3
   },
   "file_extension": ".py",
   "mimetype": "text/x-python",
   "name": "python",
   "nbconvert_exporter": "python",
   "pygments_lexer": "ipython3",
   "version": "3.7.3"
  }
 },
 "nbformat": 4,
 "nbformat_minor": 4
}
