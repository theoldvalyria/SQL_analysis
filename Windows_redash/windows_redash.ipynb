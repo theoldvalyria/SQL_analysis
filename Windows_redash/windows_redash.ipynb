{
 "cells": [
  {
   "cell_type": "markdown",
   "metadata": {},
   "source": [
    "# Анализ продаж авокадо \n"
   ]
  },
  {
   "cell_type": "markdown",
   "metadata": {},
   "source": [
    "Датасет содержит еженедельные данные о продажах авокадо с различными характеристиками:\n",
    "\n",
    "- **date**: дата\n",
    "- **average_price**: средняя цена одного авокадо\n",
    "- **total_volume**: количество проданных авокадо\n",
    "- **plu4046**: количество проданных авокадо PLU 4046\n",
    "- **plu4225**: количество проданных авокадо PLU 4225\n",
    "- **plu4770**: количество проданных авокадо PLU 4770\n",
    "- **total_bags**: всего упаковок\n",
    "- **small_bags**: маленькие упаковки\n",
    "- **large_bags**: большие упаковки\n",
    "- **xlarge_bags**: очень большие упаковки\n",
    "- **type**: обычный или органический\n",
    "- **year**: год\n",
    "- **region**: город или регион (TotalUS – по всем США)"
   ]
  },
  {
   "cell_type": "markdown",
   "metadata": {},
   "source": [
    "### 1. Посмотрите продажи авокадо в двух городах (NewYork, LosAngeles) и определите, сколько авокадо типа organic было продано в целом к концу каждой недели (накопительная сумма продаж), начиная с начала периода наблюдений (04/01/15). \n",
    "Значения внутри окна сортируйте по дате, а саму таблицу отсортируйте по убыванию региона (сначала NY, потом LA) и по возрастанию даты."
   ]
  },
  {
   "cell_type": "markdown",
   "metadata": {},
   "source": [
    "```sql\n",
    "SELECT  region,\n",
    "        date,\n",
    "        total_volume,\n",
    "        SUM(total_volume) OVER (PARTITION BY region\n",
    "                                ORDER BY date\n",
    "                                ROWS BETWEEN UNBOUNDED PRECEDING AND CURRENT ROW) AS volume\n",
    "FROM default.avocado\n",
    "WHERE region IN ('NewYork', 'LosAngeles') AND\n",
    "      type = 'organic'\n",
    "ORDER BY region DESC, date\n",
    "```"
   ]
  },
  {
   "cell_type": "markdown",
   "metadata": {},
   "source": [
    "### 2. Добавьте разбивку по каждому году. Таким образом, в конце февраля 2016 года объем составят уже не продажи за 2015 и январь-февраль 2016, а только за январь-февраль 2016. Когда объемы продаж органических авокадо в Нью-Йорке превысили объемы продаж в Лос-Анджелесе? Для решения задачи постройте график объема продаж в двух городах."
   ]
  },
  {
   "cell_type": "markdown",
   "metadata": {},
   "source": [
    "![first](charts/1.png)"
   ]
  },
  {
   "cell_type": "markdown",
   "metadata": {},
   "source": [
    "**Ответ**: В феврале 2018 объемы продаж органических авокадо в Нью-Йорке превысили объемы продаж в Лос-Анджелесе."
   ]
  },
  {
   "cell_type": "markdown",
   "metadata": {},
   "source": [
    "### 3. Посмотрите, когда объемы продаж обычных (conventional) авокадо резко падали по сравнению с предыдущей неделей. Возьмите данные по США в целом, посчитайте разницу между объемом продаж в неделю x (total_volume) и количеством проданных авокадо в течение предыдущей недели. Значения запишите в новый столбец week_diff.\n",
    "\n",
    "- `type` – тип авокадо (conventional)\n",
    "- `region` – регион (TotalUS)\n",
    "- `total_volume` – объем продаж за неделю"
   ]
  },
  {
   "cell_type": "markdown",
   "metadata": {},
   "source": [
    "```sql\n",
    "SELECT  region,\n",
    "        date,\n",
    "        type,\n",
    "        total_volume,\n",
    "        total_volume - LAG(total_volume, 1) OVER (PARTITION BY type\n",
    "                                                 ORDER BY date \n",
    "                                                 ROWS BETWEEN UNBOUNDED PRECEDING AND CURRENT ROW) AS week_diff\n",
    "FROM avocado\n",
    "WHERE region = 'TotalUS' AND \n",
    "      type = 'conventional'\n",
    "ORDER BY region DESC, year, date\n",
    "```"
   ]
  },
  {
   "cell_type": "markdown",
   "metadata": {},
   "source": [
    "![second](charts/2.png)"
   ]
  },
  {
   "cell_type": "markdown",
   "metadata": {},
   "source": [
    "**Выводы по графику:**\n",
    "- Самые большие падения объемов продаж авокадо происходили в феврале\n",
    "- Самое крупное падение объемов продаж по сравнению с предыдущей неделей произошло 12 февраля 2017 года\n"
   ]
  },
  {
   "cell_type": "markdown",
   "metadata": {},
   "source": [
    "### 4. Посмотрите более подробно на объемы продаж авокадо в Нью-Йорке (NewYork) в 2018 году. Создайте колонку с разницей объемов продаж за неделю и за неделю до этого для каждого типа авокадо. Найдите день, когда продажи авокадо типа organic увеличились по сравнению с предыдущей неделей, а conventional – наоборот упали. \n"
   ]
  },
  {
   "cell_type": "markdown",
   "metadata": {},
   "source": [
    "```sql\n",
    "SELECT type,\n",
    "       date,\n",
    "       total_volume - LAG(total_volume, 1) OVER (PARTITION BY type\n",
    "                                                 ORDER BY date \n",
    "                                                 ROWS BETWEEN UNBOUNDED PRECEDING AND CURRENT ROW) AS week_diff\n",
    "FROM avocado\n",
    "WHERE region = 'NewYork' AND year = 2018\n",
    "ORDER BY type, date\n",
    "```"
   ]
  },
  {
   "cell_type": "markdown",
   "metadata": {},
   "source": [
    "![third](charts/3.png)"
   ]
  },
  {
   "cell_type": "markdown",
   "metadata": {},
   "source": [
    "**Ответ**: продажи авокадо типа organic увеличились по сравнению с предыдущей неделей, а conventional – наоборот упали 18/02/2018, 18/03/2018."
   ]
  },
  {
   "cell_type": "markdown",
   "metadata": {},
   "source": [
    "### 5. Посчитайте скользящее среднее цены авокадо (average_price) в Нью-Йорке с разбивкой по типу авокадо. В качестве окна используйте текущую неделю и предыдущие две."
   ]
  },
  {
   "cell_type": "markdown",
   "metadata": {},
   "source": [
    "```sql\n",
    "SELECT type,\n",
    "       date,\n",
    "       average_price,\n",
    "       AVG(average_price) OVER (PARTITION BY type\n",
    "                                ORDER BY date \n",
    "                                ROWS BETWEEN 2 PRECEDING AND CURRENT ROW) AS rolling_price\n",
    "FROM avocado\n",
    "WHERE region = 'NewYork'\n",
    "ORDER BY type, date\n",
    "```"
   ]
  },
  {
   "cell_type": "markdown",
   "metadata": {},
   "source": [
    "![forth](charts/4.png)"
   ]
  }
 ],
 "metadata": {
  "kernelspec": {
   "display_name": "Python 3",
   "language": "python",
   "name": "python3"
  },
  "language_info": {
   "codemirror_mode": {
    "name": "ipython",
    "version": 3
   },
   "file_extension": ".py",
   "mimetype": "text/x-python",
   "name": "python",
   "nbconvert_exporter": "python",
   "pygments_lexer": "ipython3",
   "version": "3.7.3"
  }
 },
 "nbformat": 4,
 "nbformat_minor": 4
}
