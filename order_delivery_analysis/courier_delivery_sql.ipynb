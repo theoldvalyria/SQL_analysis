{
 "cells": [
  {
   "cell_type": "markdown",
   "metadata": {},
   "source": [
    "# Анализ пользовательских данных и заказов e-commerce платформы"
   ]
  },
  {
   "cell_type": "markdown",
   "metadata": {},
   "source": [
    "<img src=\"https://storage.yandexcloud.net/klms-public/production/learning-content/152/1762/17923/51794/244290/2023_01_24_214337_negate.jpg\" alt=\"Alt text\" width=\"600\">\n"
   ]
  },
  {
   "cell_type": "markdown",
   "metadata": {},
   "source": [
    "### 1. Напишите запрос, который включит в результат две колонки с датами рождения из обеих таблиц, назвав их соответственно users_birth_date и couriers_birth_date. Включите также колонки с числом пользователей (users_count) и числом курьеров (couriers_count)."
   ]
  },
  {
   "cell_type": "markdown",
   "metadata": {},
   "source": [
    "```sql\n",
    "SELECT a.birth_date as users_birth_date,\n",
    "       users_count,\n",
    "       b.birth_date as couriers_birth_date,\n",
    "       couriers_count\n",
    "FROM   (SELECT birth_date,\n",
    "               count(user_id) as users_count\n",
    "        FROM   users\n",
    "        WHERE  birth_date is not null\n",
    "        GROUP BY birth_date) a full JOIN (SELECT birth_date,\n",
    "                                                 count(courier_id) as couriers_count\n",
    "                                          FROM   couriers\n",
    "                                          WHERE  birth_date is not null\n",
    "                                          GROUP BY birth_date) b using (birth_date)\n",
    "ORDER BY users_birth_date, couriers_birth_date\n",
    "```"
   ]
  },
  {
   "cell_type": "markdown",
   "metadata": {},
   "source": [
    "### 2. Напишите запрос, который отберёт id первых 100 пользователей из таблицы `users` и объединит их со всеми наименованиями товаров из таблицы `products`."
   ]
  },
  {
   "cell_type": "markdown",
   "metadata": {},
   "source": [
    "```sql\n",
    "SELECT user_id,\n",
    "       name\n",
    "FROM   (SELECT user_id\n",
    "        FROM   users\n",
    "        LIMIT 100) as t1\n",
    "        CROSS JOIN products\n",
    "ORDER BY user_id, name\n",
    "```"
   ]
  },
  {
   "cell_type": "markdown",
   "metadata": {},
   "source": [
    "### 3. Напишите запрос, который для каждого пользователя рассчитает следующие показатели, учитывая только неотменённые заказы:\n",
    "\n",
    "- Общее число заказов — назовите колонку `orders_count`.\n",
    "- Среднее количество товаров в заказе — назовите колонку `avg_order_size` (округлить до двух знаков после запятой).\n",
    "- Суммарную стоимость всех покупок — назовите колонку `sum_order_value`.\n",
    "- Среднюю стоимость заказа — назовите колонку `avg_order_value` (округлить до двух знаков после запятой).\n",
    "- Минимальную стоимость заказа — назовите колонку `min_order_value`.\n",
    "- Максимальную стоимость заказа — назовите колонку `max_order_value`."
   ]
  },
  {
   "cell_type": "markdown",
   "metadata": {},
   "source": [
    "```sql\n",
    "SELECT user_id,\n",
    "       count(order_price) as orders_count,\n",
    "       round(avg(order_size), 2) as avg_order_size,\n",
    "       sum(order_price) as sum_order_value,\n",
    "       round(avg(order_price), 2) as avg_order_value,\n",
    "       min(order_price) as min_order_value,\n",
    "       max(order_price) as max_order_value\n",
    "FROM   (SELECT user_id,\n",
    "               order_id,\n",
    "               array_length(product_ids, 1) as order_size\n",
    "        FROM   (SELECT user_id,\n",
    "                       order_id\n",
    "                FROM   user_actions\n",
    "                WHERE  order_id not in (SELECT order_id\n",
    "                                        FROM   user_actions\n",
    "                                        WHERE  action = 'cancel_order')) t1\n",
    "            LEFT JOIN orders using(order_id)) t2\n",
    "    LEFT JOIN (SELECT order_id,\n",
    "                      sum(price) as order_price\n",
    "               FROM   (SELECT order_id,\n",
    "                              product_ids,\n",
    "                              unnest(product_ids) as product_id\n",
    "                       FROM   orders\n",
    "                       WHERE  order_id not in (SELECT order_id\n",
    "                                               FROM   user_actions\n",
    "                                               WHERE  action = 'cancel_order')) t3\n",
    "                   LEFT JOIN products using(product_id)\n",
    "               GROUP BY order_id) t4 using (order_id)\n",
    "GROUP BY user_id\n",
    "ORDER BY user_id limit 1000\n",
    "```"
   ]
  },
  {
   "cell_type": "markdown",
   "metadata": {},
   "source": [
    "### 4. Напишите запрос, который посчитает ежедневную выручку сервиса. Выручка определяется как стоимость всех реализованных товаров, содержащихся в заказах. Для этого используйте данные из таблиц `orders`, `products` и `user_actions`.\n"
   ]
  },
  {
   "cell_type": "markdown",
   "metadata": {},
   "source": [
    "```sql\n",
    "SELECT  date,\n",
    "        sum(price) as revenue\n",
    "FROM \n",
    "(SELECT order_id,\n",
    "        date(time) as date,\n",
    "        unnest(product_ids) as product_id\n",
    "FROM   orders left JOIN user_actions using(order_id)\n",
    "WHERE  order_id not in (SELECT order_id\n",
    "                        FROM   user_actions\n",
    "                        WHERE  action = 'cancel_order')) t1\n",
    "LEFT JOIN products using (product_id)\n",
    "GROUP BY date\n",
    "ORDER BY date\n",
    "```"
   ]
  },
  {
   "cell_type": "markdown",
   "metadata": {},
   "source": [
    "### 5. Напишите запрос, который определит 10 самых популярных товаров, доставленных в сентябре 2022 года, используя данные из таблиц. Под популярностью товара понимается количество заказов, в которых он был доставлен, _с учётом только одной единицы товара_ за заказ. Выведите наименования товаров и количество заказов, в которых они встречались."
   ]
  },
  {
   "cell_type": "markdown",
   "metadata": {},
   "source": [
    "```sql\n",
    "WITH September_orders as (\n",
    "SELECT  DISTINCT order_id,  --DISTINCT тк учитываем только одну единицу товара\n",
    "        unnest(product_ids) as product_id\n",
    "FROM\n",
    "   (SELECT order_id\n",
    "    FROM courier_actions\n",
    "    WHERE action = 'deliver_order' and \n",
    "    DATE_PART('year', time) = 2022 and\n",
    "    DATE_PART('month', time) = 9) t1\n",
    "LEFT JOIN orders USING(order_id)\n",
    ")\n",
    "SELECT  name, \n",
    "        count(*) as times_purchased\n",
    "FROM September_orders LEFT JOIN products USING(product_id)\n",
    "GROUP BY name\n",
    "ORDER BY times_purchased desc\n",
    "LIMIT 10\n",
    "```"
   ]
  },
  {
   "cell_type": "markdown",
   "metadata": {},
   "source": [
    "### 6. Напишите запрос, который заменит списки с id товаров в таблице orders на списки с наименованиями товаров из таблицы `products`. Новую колонку с наименованиями товаров назовите product_names."
   ]
  },
  {
   "cell_type": "markdown",
   "metadata": {},
   "source": [
    "```sql\n",
    "SELECT order_id,\n",
    "       array_agg(name) as product_names\n",
    "FROM   (SELECT order_id,\n",
    "               unnest(product_ids) as product_id\n",
    "        FROM   orders) t1\n",
    "    LEFT JOIN products using(product_id)\n",
    "GROUP BY order_id \n",
    "```"
   ]
  },
  {
   "cell_type": "markdown",
   "metadata": {},
   "source": [
    "### 7. На основе таблицы `orders` сформируйте новую таблицу с общим числом заказов по дням, исключив отменённые заказы. Затем расчитайте накопительную сумму числа заказов."
   ]
  },
  {
   "cell_type": "markdown",
   "metadata": {},
   "source": [
    "```sql\n",
    "WITH Orders_by_day as (\n",
    "SELECT  date(creation_time) as date,\n",
    "        COUNT(DISTINCT order_id) as orders_count\n",
    "FROM   orders\n",
    "WHERE order_id not in (SELECT order_id \n",
    "                       FROM user_actions\n",
    "                       WHERE action = 'cancel_order')\n",
    "GROUP BY date\n",
    ")\n",
    "SELECT  date,\n",
    "        orders_count,\n",
    "        SUM(orders_count) OVER (ORDER BY date)::integer as orders_cum_count\n",
    "FROM Orders_by_day\n",
    "    \n",
    "```"
   ]
  },
  {
   "cell_type": "markdown",
   "metadata": {},
   "source": [
    "### 8. Для каждого пользователя в таблице user_actions посчитайте порядковый номер каждого заказа, исключив отменённые заказы. Затем рассчитайте, сколько времени прошло с момента предыдущего заказа для каждого пользователя.\n",
    "\n",
    "\n",
    "\n",
    "\n",
    "\n",
    "\n"
   ]
  },
  {
   "cell_type": "markdown",
   "metadata": {},
   "source": [
    "```sql\n",
    "WITH Orders_number as (\n",
    "SELECT  user_id,\n",
    "        order_id,\n",
    "        time,\n",
    "        ROW_NUMBER() OVER (PARTITION BY user_id ORDER BY time) as order_number,\n",
    "        LAG(time) OVER (PARTITION BY user_id ORDER BY time) as time_lag\n",
    "FROM user_actions\n",
    "WHERE order_id not in (SELECT order_id \n",
    "                       FROM user_actions\n",
    "                       WHERE action = 'cancel_order')\n",
    ")\n",
    "SELECT  *,\n",
    "        time - time_lag as time_diff\n",
    "FROM Orders_number\n",
    "ORDER BY user_id, order_number\n",
    "```"
   ]
  },
  {
   "cell_type": "markdown",
   "metadata": {},
   "source": [
    "### 9. На основе запроса из предыдущего задания для каждого пользователя рассчитайте, сколько в среднем времени проходит между его заказами. Учтите только тех пользователей, которые оформили более одного неотменённого заказа. Среднее время между заказами выразите в часах, округлив значения до целого числа.\n"
   ]
  },
  {
   "cell_type": "markdown",
   "metadata": {},
   "source": [
    "```sql\n",
    "WITH Orders_number as (\n",
    "SELECT  user_id,\n",
    "        order_id,\n",
    "        time,\n",
    "        ROW_NUMBER() OVER (PARTITION BY user_id ORDER BY time) as order_number,\n",
    "        LAG(time) OVER (PARTITION BY user_id ORDER BY time) as time_lag\n",
    "FROM user_actions\n",
    "WHERE order_id not in (SELECT order_id \n",
    "                       FROM user_actions\n",
    "                       WHERE action = 'cancel_order')),\n",
    "Diff_time as (\n",
    "SELECT  *,\n",
    "        time - time_lag as time_diff\n",
    "FROM Orders_number)\n",
    "\n",
    "SELECT  DISTINCT user_id,\n",
    "        ROUND(\n",
    "            EXTRACT(epoch FROM AVG(time_diff) OVER (PARTITION BY user_id)\n",
    "            ) / 3600\n",
    "        )::integer AS hours_between_orders\n",
    "FROM Diff_time\n",
    "WHERE user_id in (SELECT user_id\n",
    "                  FROM Orders_number\n",
    "                  GROUP BY user_id\n",
    "                  HAVING count(DISTINCT order_id) > 1)\n",
    "ORDER BY user_id\n",
    "LIMIT 1000 \n",
    "```"
   ]
  },
  {
   "cell_type": "markdown",
   "metadata": {},
   "source": [
    "### 10. На основе таблицы `orders` сформируйте новую таблицу с общим числом заказов по дням, исключив отменённые заказы. Затем рассчитайте скользящее среднее числа заказов, используя данные за три предыдущих дня.\n",
    "\n",
    "\n"
   ]
  },
  {
   "cell_type": "markdown",
   "metadata": {},
   "source": [
    "```sql\n",
    "WITH Orders_by_day as (\n",
    "SELECT  date(creation_time) as date,\n",
    "        COUNT(DISTINCT order_id) as orders_count\n",
    "FROM   orders\n",
    "WHERE order_id not in (SELECT order_id \n",
    "                       FROM user_actions\n",
    "                       WHERE action = 'cancel_order')\n",
    "GROUP BY date\n",
    ")\n",
    "SELECT  date,\n",
    "        orders_count,\n",
    "        ROUND(\n",
    "            AVG(orders_count) OVER (ORDER BY date\n",
    "                                    ROWS BETWEEN 3 PRECEDING and 1 PRECEDING),\n",
    "        2) as moving_avg     \n",
    "FROM Orders_by_day\n",
    "    \n",
    "\n",
    "```"
   ]
  },
  {
   "cell_type": "markdown",
   "metadata": {},
   "source": [
    "### 11. Отметьте в отдельной таблице тех курьеров, которые доставили в сентябре 2022 года больше заказов, чем в среднем все курьеры. Используйте CASE, чтобы в отдельной колонке указать 1, если курьер доставил больше заказов, чем в среднем, и 0 в противном случае.\n"
   ]
  },
  {
   "cell_type": "markdown",
   "metadata": {},
   "source": [
    "```sql\n",
    "WITH September_orders as (\n",
    "SELECT  courier_id,\n",
    "        COUNT(DISTINCT order_id) as delivered_orders\n",
    "FROM    courier_actions\n",
    "WHERE order_id in (SELECT order_id \n",
    "                   FROM courier_actions\n",
    "                   WHERE action = 'deliver_order')\n",
    "      and DATE_PART('year', time) = 2022\n",
    "      and DATE_PART('month', time) = 9\n",
    "GROUP BY courier_id),\n",
    "Avg_delivered AS (\n",
    "SELECT  *,\n",
    "        ROUND(\n",
    "        AVG(delivered_orders) OVER (),\n",
    "        2) as avg_delivered_orders\n",
    "FROM September_orders\n",
    ")\n",
    "SELECT  *,\n",
    "        CASE \n",
    "            WHEN delivered_orders > avg_delivered_orders THEN 1 \n",
    "            ELSE 0\n",
    "        END as is_above_avg\n",
    "FROM Avg_delivered\n",
    "    \n",
    "\n",
    "```"
   ]
  },
  {
   "cell_type": "markdown",
   "metadata": {},
   "source": [
    "### 12. По данным таблицы `user_actions` посчитайте число первых и повторных заказов на каждую дату. Для каждого пользователя первым заказом считается самый ранний заказ, все остальные заказы этого пользователя относятся к категории «Повторный».\n",
    "\n",
    "### К полученному запросу добавьте расчёт доли первых и повторных заказов для каждого дня. Рассчитайте эти доли на основе общего числа заказов на каждую дату."
   ]
  },
  {
   "cell_type": "markdown",
   "metadata": {},
   "source": [
    "```sql\n",
    "WITH Orders_numbers as (\n",
    "SELECT  date(time),\n",
    "        order_id,\n",
    "        ROW_NUMBER() OVER (PARTITION BY user_id ORDER BY time) order_number\n",
    "FROM    user_actions\n",
    "WHERE order_id not in (SELECT order_id \n",
    "                       FROM user_actions\n",
    "                       WHERE action = 'cancel_order')),\n",
    "Orders_types as (                       \n",
    "SELECT  *,\n",
    "        CASE \n",
    "            WHEN order_number = 1 THEN 'Первый'\n",
    "            ELSE 'Повторный'\n",
    "        END as order_type\n",
    "FROM Orders_numbers),\n",
    "Total_orders as (\n",
    "SELECT  date,\n",
    "        order_type,\n",
    "        COUNT(*) as orders_count\n",
    "FROM Orders_types\n",
    "GROUP BY date, order_type\n",
    "ORDER BY date, order_type\n",
    ")\n",
    "SELECT  *,\n",
    "        ROUND(\n",
    "            orders_count::decimal /\n",
    "                SUM(orders_count) OVER (PARTITION BY date),\n",
    "        2) as orders_share\n",
    "FROM Total_orders\n",
    "```"
   ]
  },
  {
   "cell_type": "markdown",
   "metadata": {},
   "source": [
    "### 13. Для каждой записи проставьте среднюю цену всех товаров. Затем рассчитайте среднюю цену товаров без учёта самого дорогого товара и поместите результат в отдельную колонку.\n"
   ]
  },
  {
   "cell_type": "markdown",
   "metadata": {},
   "source": [
    "```sql  \n",
    "SELECT  *,\n",
    "        ROUND(AVG(price) OVER (), 2)  as avg_price,\n",
    "        ROUND(\n",
    "            AVG(price) FILTER (WHERE price <>\n",
    "                                   (SELECT MAX(price) \n",
    "                                    FROM products))\n",
    "                       OVER (),\n",
    "        2) as avg_price_filtered\n",
    "FROM products\n",
    "ORDER BY price DESC, product_id\n",
    "```"
   ]
  },
  {
   "cell_type": "markdown",
   "metadata": {},
   "source": [
    "### 14. Для каждой записи в таблице `user_actions` с помощью FILTER посчитайте, сколько заказов сделал и сколько отменил каждый пользователь на момент совершения нового действия.\n",
    "\n",
    "То есть, для каждого пользователя в каждый момент времени рассчитайте две накопительные суммы: число оформленных (created_orders) и число отменённых (canceled_orders) заказов. Если пользователь оформляет заказ, увеличивайте на 1 количество оформленных заказов; если отменяет — увеличивайте на 1 количество отменённых заказов.\n",
    "\n",
    "На основе этих двух колонок рассчитайте показатель cancel_rate, т.е. долю отменённых заказов в общем количестве оформленных заказов.\n",
    "\n",
    "В результате у вас должны получиться три новые колонки с динамическими показателями, которые изменяются во времени с каждым новым действием пользователя.\n"
   ]
  },
  {
   "cell_type": "markdown",
   "metadata": {},
   "source": [
    "```sql\n",
    "SELECT user_id,\n",
    "       order_id,\n",
    "       action,\n",
    "       time,\n",
    "       created_orders,\n",
    "       canceled_orders,\n",
    "       round(canceled_orders::decimal / created_orders, 2) as cancel_rate\n",
    "FROM   (SELECT user_id,\n",
    "               order_id,\n",
    "               action,\n",
    "               time,\n",
    "               count(order_id) filter (WHERE action != 'cancel_order') OVER (PARTITION BY user_id\n",
    "                                                                             ORDER BY time) as created_orders,\n",
    "               count(order_id) filter (WHERE action = 'cancel_order') OVER (PARTITION BY user_id\n",
    "                                                                            ORDER BY time) as canceled_orders\n",
    "        FROM   user_actions) t\n",
    "ORDER BY user_id, order_id, time limit 1000;\n",
    "```"
   ]
  },
  {
   "cell_type": "markdown",
   "metadata": {},
   "source": [
    "### 15. Из таблицы `courier_actions` отберите топ 10% курьеров по количеству доставленных за всё время заказов. Выведите id курьеров, количество доставленных заказов и порядковый номер курьера в соответствии с числом доставленных заказов.\n",
    "\n",
    "У курьера, доставившего наибольшее число заказов, порядковый номер должен быть равен 1, а у курьера с наименьшим числом заказов среди топ 10% — числу, равному 10% от общего количества курьеров в таблице courier_actions."
   ]
  },
  {
   "cell_type": "markdown",
   "metadata": {},
   "source": [
    "```sql\n",
    "with courier_count as (SELECT count(distinct courier_id)\n",
    "                       FROM   courier_actions)\n",
    "SELECT courier_id,\n",
    "       orders_count,\n",
    "       courier_rank\n",
    "FROM   (SELECT courier_id,\n",
    "               count(distinct order_id) as orders_count,\n",
    "               row_number() OVER (ORDER BY count(distinct order_id) desc, courier_id) as courier_rank\n",
    "        FROM   courier_actions\n",
    "        WHERE  action = 'deliver_order'\n",
    "        GROUP BY courier_id) as t1\n",
    "WHERE  courier_rank <= round((SELECT *\n",
    "                              FROM   courier_count)*0.1);\n",
    "```"
   ]
  },
  {
   "cell_type": "markdown",
   "metadata": {},
   "source": [
    "### 16. Отберите из таблицы `courier_actions` всех курьеров, которые работают в нашей компании 10 и более дней. Также рассчитайте, сколько заказов они уже успели доставить за всё время работы.\n",
    "\n",
    "Период работы курьера рассчитывайте как разницу между первым действием курьера и временем последнего действия в таблице courier_actions. Текущей отметкой времени, относительно которой необходимо рассчитывать продолжительность работы курьера, считайте время последнего действия. Учтите только целые дни, прошедшие с момента первого выхода курьера на работу (часы и минуты не учитывайте)."
   ]
  },
  {
   "cell_type": "markdown",
   "metadata": {},
   "source": [
    "```sql\n",
    "SELECT courier_id,\n",
    "       date_part ('day', last_date - first_date)::int as days_employed,\n",
    "       delivered_orders FROM(SELECT courier_id,\n",
    "                             count (order_id) filter (WHERE action = 'deliver_order') as delivered_orders,\n",
    "                             min (time) as first_date,\n",
    "                             (SELECT max(time)\n",
    "                       FROM   courier_actions) as last_date\n",
    "                      FROM   courier_actions\n",
    "                      GROUP BY courier_id) t\n",
    "WHERE  date_part ('day', last_date - first_date) >= 10\n",
    "ORDER BY days_employed desc, courier_id;\n",
    "```"
   ]
  },
  {
   "cell_type": "markdown",
   "metadata": {},
   "source": [
    "### 17. На основе информации в таблицах `orders` и `products` рассчитайте стоимость каждого заказа, ежедневную выручку сервиса и долю стоимости каждого заказа в ежедневной выручке, выраженную в процентах. В результат включите следующие колонки:\n",
    "\n",
    "- id заказа\n",
    "- Время создания заказа\n",
    "- Стоимость заказа\n",
    "- Выручка за день, в который был совершён заказ\n",
    "- Доля стоимости заказа в выручке за день, выраженная в процентах"
   ]
  },
  {
   "cell_type": "markdown",
   "metadata": {},
   "source": [
    "```sql\n",
    "SELECT order_id,\n",
    "       creation_time,\n",
    "       order_price,\n",
    "       sum(order_price) OVER(PARTITION BY date(creation_time)) as daily_revenue,\n",
    "       round(100 * order_price::decimal / sum(order_price) OVER(PARTITION BY date(creation_time)),\n",
    "             3) as percentage_of_daily_revenue\n",
    "FROM   (SELECT order_id,\n",
    "               creation_time,\n",
    "               sum(price) as order_price\n",
    "        FROM   (SELECT order_id,\n",
    "                       creation_time,\n",
    "                       product_ids,\n",
    "                       unnest(product_ids) as product_id\n",
    "                FROM   orders\n",
    "                WHERE  order_id not in (SELECT order_id\n",
    "                                        FROM   user_actions\n",
    "                                        WHERE  action = 'cancel_order')) t3\n",
    "            LEFT JOIN products using(product_id)\n",
    "        GROUP BY order_id, creation_time) t\n",
    "ORDER BY date(creation_time) desc, percentage_of_daily_revenue desc, order_id;\n",
    "```"
   ]
  },
  {
   "cell_type": "markdown",
   "metadata": {},
   "source": [
    "### 18. На основе информации в таблицах `orders` и `products` рассчитайте ежедневную выручку сервиса и отразите её в колонке `daily_revenue`. Затем посчитайте ежедневный прирост выручки. Отразите прирост выручки как в абсолютных значениях, так и в процентах относительно предыдущего дня.\n",
    "\n",
    "Для самого первого дня укажите прирост равным 0 в обеих колонках. При проведении расчётов отменённые заказы не учитывайте. "
   ]
  },
  {
   "cell_type": "markdown",
   "metadata": {},
   "source": [
    "```sql\n",
    "SELECT date,\n",
    "       sum (price) as daily_revenue,\n",
    "       coalesce (round (sum (price) - lag (sum (price), 1) OVER (ORDER BY date), 1), 0) as revenue_growth_abs,\n",
    "       coalesce (round (100*sum (price)::decimal / lag (sum (price), 1) OVER (ORDER BY date) - 100, 1), 0) as revenue_growth_percentage\n",
    "FROM   (SELECT order_id,\n",
    "               creation_time::date as date,\n",
    "               unnest(product_ids) as product_id\n",
    "        FROM   orders\n",
    "        WHERE  order_id not in (SELECT order_id\n",
    "                                FROM   user_actions\n",
    "                                WHERE  action = 'cancel_order')) t1\n",
    "    LEFT JOIN products using(product_id)\n",
    "GROUP BY date\n",
    "ORDER BY date;\n",
    "```"
   ]
  }
 ],
 "metadata": {
  "kernelspec": {
   "display_name": "Python 3",
   "language": "python",
   "name": "python3"
  },
  "language_info": {
   "codemirror_mode": {
    "name": "ipython",
    "version": 3
   },
   "file_extension": ".py",
   "mimetype": "text/x-python",
   "name": "python",
   "nbconvert_exporter": "python",
   "pygments_lexer": "ipython3",
   "version": "3.7.3"
  }
 },
 "nbformat": 4,
 "nbformat_minor": 4
}
