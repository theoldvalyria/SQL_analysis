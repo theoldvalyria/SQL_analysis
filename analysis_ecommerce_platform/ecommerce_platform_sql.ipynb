{
 "cells": [
  {
   "cell_type": "markdown",
   "metadata": {},
   "source": [
    "# Анализ пользовательских данных и заказов e-commerce платформы - SQL Код"
   ]
  },
  {
   "cell_type": "markdown",
   "metadata": {},
   "source": [
    "<img src=\"https://storage.yandexcloud.net/klms-public/production/learning-content/152/1762/17923/51794/244290/2023_01_24_214337_negate.jpg\" alt=\"Alt text\" width=\"600\">\n"
   ]
  },
  {
   "cell_type": "markdown",
   "metadata": {},
   "source": [
    "### 1. Подсчитайте количество сделанных и отмененных заказов для каждого месяца."
   ]
  },
  {
   "cell_type": "markdown",
   "metadata": {},
   "source": [
    "```sql\n",
    "SELECT date_trunc('month', time) as month,\n",
    "       action,\n",
    "       count(order_id) as orders_count\n",
    "FROM   user_actions\n",
    "GROUP BY month, action\n",
    "ORDER BY month, action\n",
    "```"
   ]
  },
  {
   "cell_type": "markdown",
   "metadata": {},
   "source": [
    "### 2. Подсчитайте количество пользователей в каждой подгруппе: возрастные группы и пол."
   ]
  },
  {
   "cell_type": "markdown",
   "metadata": {},
   "source": [
    "```sql\n",
    "SELECT date_part('year', age(birth_date))::integer as age,\n",
    "       sex,\n",
    "       count(user_id) as users_count\n",
    "FROM   users\n",
    "WHERE  birth_date is not null\n",
    "GROUP BY age, sex\n",
    "ORDER BY age, sex\n",
    "```"
   ]
  },
  {
   "cell_type": "markdown",
   "metadata": {},
   "source": [
    "### 3. Сгруппируйте данные по количеству товаров в заказах, учитывая только заказы, оформленные по будням, и посчитайте количество заказов в каждой группе. Включите в результат только те группы, где количество заказов превышает 2000.\n"
   ]
  },
  {
   "cell_type": "markdown",
   "metadata": {},
   "source": [
    "```sql\n",
    "SELECT array_length(product_ids, 1) as order_size,\n",
    "       count(order_id) as orders_count\n",
    "FROM   orders\n",
    "WHERE  to_char(creation_time, 'Dy') NOT IN ('Sat', 'Sun')\n",
    "GROUP BY order_size having count(order_id) > 2000\n",
    "ORDER BY order_size\n",
    "```"
   ]
  },
  {
   "cell_type": "markdown",
   "metadata": {},
   "source": [
    "### 4. Сгруппируйте пользователей по четырём возрастным категориям: «18-24», «25-29», «30-35», «36+», и посчитайте количество пользователей в каждой группе. Исключите из расчётов пользователей с неуказанной датой рождения, учитывая полные года."
   ]
  },
  {
   "cell_type": "markdown",
   "metadata": {},
   "source": [
    "```sql\n",
    "SELECT case when date_part('year',\n",
    "                           age(current_date, birth_date))::integer between 18 and\n",
    "                 24 then '18-24'\n",
    "            when date_part('year', age(current_date, birth_date))::integer between 25 and\n",
    "                 29 then '25-29'\n",
    "            when date_part('year', age(current_date, birth_date))::integer between 30 and\n",
    "                 35 then '30-35'\n",
    "            else '36+' end as group_age,\n",
    "       count(user_id) as users_count\n",
    "FROM   users\n",
    "WHERE  birth_date IS NOT null\n",
    "GROUP BY group_age\n",
    "ORDER BY group_age\n",
    "```"
   ]
  },
  {
   "cell_type": "markdown",
   "metadata": {},
   "source": [
    "### 5.  Рассчитайте средний размер заказа по выходным и будним дням."
   ]
  },
  {
   "cell_type": "markdown",
   "metadata": {},
   "source": [
    "```sql\n",
    "SELECT case when date_part('dow', creation_time) between 2 and 6 then 'weekdays'\n",
    "            else 'weekend' end as week_part,\n",
    "       round(avg(array_length(product_ids, 1)), 2) as avg_order_size\n",
    "FROM   orders\n",
    "GROUP BY week_part\n",
    "ORDER BY avg_order_size\n",
    "```"
   ]
  },
  {
   "cell_type": "markdown",
   "metadata": {},
   "source": [
    "### 6. Посчитайте общее количество оформленных заказов и долю отменённых заказов для каждого пользователя. Включите в результат только тех пользователей, которые оформили более трёх заказов и имеют показатель cancel_rate не менее 0.5."
   ]
  },
  {
   "cell_type": "markdown",
   "metadata": {},
   "source": [
    "```sql\n",
    "SELECT user_id,\n",
    "       round(\n",
    "       count(distinct order_id) filter (WHERE action = 'cancel_order')::decimal\n",
    "       / count(distinct order_id),\n",
    "       2) as cancel_rate,\n",
    "       count(distinct order_id) as orders_count\n",
    "FROM   user_actions\n",
    "GROUP BY user_id having round(count(distinct order_id) filter (\n",
    "WHERE  action = 'cancel_order')::decimal / count(distinct order_id), 2) >= 0.5\n",
    "       and count(distinct order_id) > 3\n",
    "ORDER BY user_id\n",
    "```"
   ]
  },
  {
   "cell_type": "markdown",
   "metadata": {},
   "source": [
    "### 7. Для каждого дня недели в таблице `user_actions` за период с 24 августа по 6 сентября 2022 года посчитайте:\n",
    "\n",
    "- Общее количество оформленных заказов (created_orders).\n",
    "- Общее количество отменённых заказов (canceled_orders).\n",
    "- Общее количество неотменённых заказов (actual_orders).\n",
    "- Долю неотменённых заказов (success_rate), округлив её до трёх знаков после запятой."
   ]
  },
  {
   "cell_type": "markdown",
   "metadata": {},
   "source": [
    "```sql\n",
    "SELECT date_part('isodow', time)::int as weekday_number,\n",
    "       to_char(time, 'Dy') as weekday,\n",
    "       count(order_id) filter (WHERE action = 'create_order') as created_orders,\n",
    "       count(order_id) filter (WHERE action = 'cancel_order') as canceled_orders,\n",
    "       count(order_id) filter (WHERE action = 'create_order')\n",
    "           - count(order_id) filter (WHERE action = 'cancel_order') as actual_orders,\n",
    "       round(\n",
    "           (count(order_id) filter (WHERE action = 'create_order')\n",
    "            - count(order_id) filter (WHERE action = 'cancel_order'))::decimal\n",
    "           / count(order_id) filter (WHERE action = 'create_order'),\n",
    "       3) as success_rate\n",
    "FROM   user_actions\n",
    "WHERE  time >= '2022-08-24'\n",
    "       and time < '2022-09-07'\n",
    "GROUP BY weekday_number, weekday\n",
    "ORDER BY weekday_number\n",
    "```"
   ]
  },
  {
   "cell_type": "markdown",
   "metadata": {},
   "source": [
    "### 8. Oпределите возраст самого молодого курьера мужского пола в таблице `couriers`, в качестве первой даты используйте последнюю дату из таблицы `courier_actions`."
   ]
  },
  {
   "cell_type": "markdown",
   "metadata": {},
   "source": [
    "```sql\n",
    "SELECT min(age((SELECT max(time)::date\n",
    "                FROM   courier_actions), birth_date))::varchar as min_age\n",
    "FROM   couriers\n",
    "WHERE  sex = 'male'\n",
    "```"
   ]
  },
  {
   "cell_type": "markdown",
   "metadata": {},
   "source": [
    "### 9. Рассчитайте количество заказов для каждого пользователя и отразите это в столбце orders_count. В отдельном столбце orders_avg укажите среднее число заказов всех пользователей, округлив его до двух знаков после запятой.\n"
   ]
  },
  {
   "cell_type": "markdown",
   "metadata": {},
   "source": [
    "```sql\n",
    "with t1 as (SELECT user_id,\n",
    "                   count(order_id) as orders_count\n",
    "            FROM   user_actions\n",
    "            WHERE  action = 'create_order'\n",
    "            GROUP BY user_id)\n",
    "SELECT user_id,\n",
    "       orders_count,\n",
    "       round((SELECT avg(orders_count)\n",
    "       FROM   t1), 2) as orders_avg, orders_count - round((SELECT avg(orders_count)\n",
    "                                                    FROM   t1), 2) as orders_diff\n",
    "FROM   t1\n",
    "ORDER BY user_id\n",
    "```"
   ]
  },
  {
   "cell_type": "markdown",
   "metadata": {},
   "source": [
    "### 10. Определите число недоставленных заказов и среди них посчитайте количество отменённых заказов и количество заказов, которые не были отменены (и соответственно, пока ещё не были доставлены)."
   ]
  },
  {
   "cell_type": "markdown",
   "metadata": {},
   "source": [
    "```sql\n",
    "SELECT count(distinct order_id) as orders_undelivered,\n",
    "       count(order_id) filter (WHERE action = 'cancel_order') as orders_canceled,\n",
    "       count(distinct order_id) - count(order_id) filter (WHERE action = 'cancel_order') as orders_in_process\n",
    "FROM   user_actions\n",
    "WHERE  order_id in (SELECT order_id\n",
    "                    FROM   courier_actions\n",
    "                    WHERE  order_id not in (SELECT order_id\n",
    "                                            FROM   courier_actions\n",
    "                                            WHERE  action = 'deliver_order'))\n",
    "```"
   ]
  },
  {
   "cell_type": "markdown",
   "metadata": {},
   "source": [
    "### 11. Выведите id и содержимое 100 последних доставленных заказов из таблицы orders. Содержимым заказов считаются списки с id входящих в заказ товаров. "
   ]
  },
  {
   "cell_type": "markdown",
   "metadata": {},
   "source": [
    "```sql\n",
    "SELECT order_id,\n",
    "       product_ids\n",
    "FROM   orders\n",
    "WHERE  order_id IN (SELECT order_id\n",
    "                    FROM   courier_actions\n",
    "                    WHERE  action = 'deliver_order'\n",
    "                    ORDER BY time DESC\n",
    "                    LIMIT 100)\n",
    "ORDER BY order_id\n",
    "```"
   ]
  },
  {
   "cell_type": "markdown",
   "metadata": {},
   "source": [
    "### 12. Из таблицы `couriers` выведите всю информацию о курьерах, которые в сентябре 2022 года доставили 30 и более заказов.\n",
    "\n"
   ]
  },
  {
   "cell_type": "markdown",
   "metadata": {},
   "source": [
    "```sql\n",
    "SELECT courier_id,\n",
    "       birth_date,\n",
    "       sex\n",
    "FROM   couriers\n",
    "WHERE  courier_id in (SELECT courier_id\n",
    "                      FROM   courier_actions\n",
    "                      WHERE  action = 'deliver_order'\n",
    "                             and date_part('year', time) = 2022\n",
    "                             and date_part('month', time) = 9\n",
    "                      GROUP BY courier_id\n",
    "                      HAVING COUNT(distinct order_id) >= 30)\n",
    "ORDER BY courier_id\n",
    "```"
   ]
  },
  {
   "cell_type": "markdown",
   "metadata": {},
   "source": [
    "### 13. Рассчитайте средний размер заказов, отменённых пользователями мужского пола. Средний размер заказа округлите до трёх знаков после запятой. "
   ]
  },
  {
   "cell_type": "markdown",
   "metadata": {},
   "source": [
    "```sql\n",
    "SELECT round(avg(array_length(product_ids, 1)), 3) as avg_order_size\n",
    "FROM   orders\n",
    "WHERE  order_id in (SELECT order_id\n",
    "                    FROM   user_actions\n",
    "                    WHERE  action = 'cancel_order'\n",
    "                       and user_id in (SELECT user_id\n",
    "                                    FROM   users\n",
    "                                    WHERE  sex = 'male'))\n",
    "```"
   ]
  },
  {
   "cell_type": "markdown",
   "metadata": {},
   "source": [
    "### 14. Посчитайте возраст каждого пользователя в таблице `users` в полных годах относительно последней даты в таблице `user_actions`. Для пользователей без указанной даты рождения укажите средний возраст всех остальных пользователей, округлённый до целого числа.\n"
   ]
  },
  {
   "cell_type": "markdown",
   "metadata": {},
   "source": [
    "```sql\n",
    "WITH info as (\n",
    "    SELECT  user_id,\n",
    "            DATE_PART('year',\n",
    "            age(\n",
    "            (SELECT max(time)\n",
    "            from user_actions),\n",
    "            birth_date)) as age\n",
    "    FROM users\n",
    ")\n",
    "SELECT  user_id, \n",
    "        coalesce(age,\n",
    "        (SELECT AVG(age)\n",
    "        FROM info))::integer as age\n",
    "FROM info\n",
    "ORDER BY user_id\n",
    "```"
   ]
  },
  {
   "cell_type": "markdown",
   "metadata": {},
   "source": [
    "### 15. Для каждого неотменённого заказа, в котором больше 5 товаров, рассчитайте время, затраченное на его доставку. Включите в результат id заказа, время принятия заказа курьером (time_accepted), время доставки заказа (time_delivered), и время, затраченное на доставку в минутах, округлив его до целого числа (delivery_time). \n"
   ]
  },
  {
   "cell_type": "markdown",
   "metadata": {},
   "source": [
    "```sql\n",
    "SELECT order_id,\n",
    "       min(time) as time_accepted,\n",
    "       max(time) as time_delivered,\n",
    "       (extract(epoch\n",
    "FROM   max(time) - min(time))/60)::integer as delivery_time\n",
    "FROM   courier_actions\n",
    "WHERE  order_id in (SELECT order_id\n",
    "                    FROM   orders\n",
    "                    WHERE  array_length(product_ids, 1) > 5)\n",
    "       and order_id not in (SELECT order_id\n",
    "                            FROM   user_actions\n",
    "                            WHERE  action = 'cancel_order')\n",
    "GROUP BY order_id\n",
    "ORDER BY order_id\n",
    "```"
   ]
  },
  {
   "cell_type": "markdown",
   "metadata": {},
   "source": [
    "### 16. Для каждой даты в таблице user_actions посчитайте количество первых заказов, совершённых пользователями, которые сделали заказ впервые. Учитывайте только неотменённые заказы.\n"
   ]
  },
  {
   "cell_type": "markdown",
   "metadata": {},
   "source": [
    "```sql\n",
    "WITH info as (SELECT *,\n",
    "                     date(time) as date\n",
    "              FROM   user_actions)\n",
    "SELECT date,\n",
    "      (SELECT count(*)\n",
    "FROM  (SELECT user_id,\n",
    "              min(date) as first_order_date\n",
    "       FROM   info\n",
    "       WHERE  order_id not in (SELECT order_id\n",
    "                               FROM   info\n",
    "                               WHERE  action = 'cancel_order')\n",
    "       GROUP BY user_id) as first_orders\n",
    "WHERE  first_order_date = t1.date) as first_orders\n",
    "FROM   info t1\n",
    "GROUP BY date\n",
    "ORDER BY date\n",
    "```"
   ]
  },
  {
   "cell_type": "markdown",
   "metadata": {},
   "source": [
    "### 17. Определите 10 самых популярных товаров в таблице `orders`. Самыми популярными товарами будем считать те, которые встречались в заказах чаще всего. Если товар встречается в одном заказе несколько раз (когда было куплено несколько единиц товара), это тоже учитывается при подсчёте. Учитывайте только неотменённые заказы."
   ]
  },
  {
   "cell_type": "markdown",
   "metadata": {},
   "source": [
    "```sql\n",
    "SELECT product_id,\n",
    "       times_purchased\n",
    "FROM   (SELECT unnest(product_ids) as product_id,\n",
    "               count(*) as times_purchased\n",
    "        FROM   orders\n",
    "        WHERE  order_id not in (SELECT order_id\n",
    "                                FROM   user_actions\n",
    "                                WHERE  action = 'cancel_order')\n",
    "        GROUP BY product_id\n",
    "        ORDER BY times_purchased desc limit 10) t1\n",
    "ORDER BY product_id\n",
    "```"
   ]
  },
  {
   "cell_type": "markdown",
   "metadata": {},
   "source": [
    "### 18. Из таблицы `orders` выведите id и содержимое заказов, которые включают хотя бы один из пяти самых дорогих товаров, доступных в нашем сервисе.\n",
    "\n"
   ]
  },
  {
   "cell_type": "markdown",
   "metadata": {},
   "source": [
    "```sql\n",
    "WITH top_products as (\n",
    "    SELECT product_id\n",
    "    FROM   products\n",
    "    ORDER BY price desc limit 5),\n",
    "unnest as (\n",
    "    SELECT order_id,\n",
    "           product_ids,\n",
    "           unnest(product_ids) as product_id\n",
    "    FROM   orders\n",
    ")\n",
    "SELECT DISTINCT order_id,\n",
    "                product_ids\n",
    "FROM   unnest\n",
    "WHERE  product_id in (SELECT *\n",
    "                      FROM   top_products)\n",
    "ORDER BY order_id\n",
    "```"
   ]
  }
 ],
 "metadata": {
  "kernelspec": {
   "display_name": "Python 3",
   "language": "python",
   "name": "python3"
  },
  "language_info": {
   "codemirror_mode": {
    "name": "ipython",
    "version": 3
   },
   "file_extension": ".py",
   "mimetype": "text/x-python",
   "name": "python",
   "nbconvert_exporter": "python",
   "pygments_lexer": "ipython3",
   "version": "3.7.3"
  }
 },
 "nbformat": 4,
 "nbformat_minor": 4
}
